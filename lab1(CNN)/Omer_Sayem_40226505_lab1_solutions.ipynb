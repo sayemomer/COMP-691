{
  "nbformat": 4,
  "nbformat_minor": 0,
  "metadata": {
    "colab": {
      "provenance": [],
      "gpuType": "T4",
      "collapsed_sections": [
        "-H8OX00sAfYD"
      ]
    },
    "kernelspec": {
      "name": "python3",
      "display_name": "Python 3"
    },
    "language_info": {
      "name": "python"
    },
    "accelerator": "GPU"
  },
  "cells": [
    {
      "cell_type": "markdown",
      "source": [
        "# **Week 1: Lab Exercises for COMP499/691 Conversational AI**"
      ],
      "metadata": {
        "id": "ogpYQuuuRbhv"
      }
    },
    {
      "cell_type": "markdown",
      "source": [
        "## Insights on Debugging Neural Networks"
      ],
      "metadata": {
        "id": "-H8OX00sAfYD"
      }
    },
    {
      "cell_type": "markdown",
      "source": [
        "Debugging neural networks is a challenging task. It often requires a profound understanding of the techniques involved.\n",
        "\n",
        "It is therefore important to have a well-defined strategy and follow some guidelines that will simplify model debugging. In general, it is crucial to implement the model step-by-step and do several checks along the way. The worse thing you can do is implement a complex system in one shot and hope everything is working.\n",
        "\n",
        "Here are some additional suggestions:\n",
        "1. Before implementing your model, carefully check your data. Make sure, for instance, that the inputs and the labels match. If you shuffle the data, make sure to shuffle inputs and labels consistently (to avoid input-label mismatches).\n",
        "\n",
        "2. Start with a simple model (e.g., a linear model). Remember: \"*the more powerful the model the more sophisticated the bugs*\". Make sure the code is running. Make sure the model is in train modality during training and eval modality during validation and test. The model will likely underfit, but you should see at least some small improvements in the training loss. If this does not happen:\n",
        "- Carefully check the batches and ensure there is a matching between inputs and labels.\n",
        "- Check the shapes on the tensors involved in your model and make sure they correspond to your expectations.\n",
        "- Check the parameters of the network. If they remain constant, your gradient is likely zero. This can be caused by forgetting to call the backpropagation method or the step method of the optimizer.\n",
        "- Make sure you applied the softmax on the right axis.\n",
        "- Tweek a bit the hyperparameters of the model to see if there is at least one configuration that allows the loss to decrease a bit.\n",
        "3. Implement your final model. Initialize it and make sure it runs. Fix possible dimensionality mismatch issues. Make sure all the shapes are the ones you expect.\n",
        "4. Do an **overfitting test**. If your model cannot overfit on a tiny dataset (e.g., take 5-10 examples only) it likely contains a bug somewhere. To do an overfitting test, feed the model with a single batch composed of 5-10 examples. Run the model for several epochs with a pretty high learning rate. If everything is correct, you should see an almost perfect training loss and a very high validation loss. This means that the model can memorize data. Data memorization is not what we want in the end, but models that cannot overfit likely have a bug to fix.\n",
        "5. Now, you can run your experiment. Check if the loss is decreasing. If you observe numerical instabilities (e.g., NaN) try to reduce the learning rate. If that does not help, consider using gradient clipping. You have to do your best to tune the hyperparameters of the model to maximize the validation performance.\n",
        "\n",
        "Many other things can go wrong. You will progressively gain more and more experience and this will help you with debugging."
      ],
      "metadata": {
        "id": "dqHxlid3BCVn"
      }
    },
    {
      "cell_type": "markdown",
      "source": [
        "## Exercise 1 - Debugging a PyTorch Code\n",
        "\n",
        "Let's now do a debug exercise with PyTorch.\n",
        "\n",
        "\n",
        "\n",
        "Let's import the needed libraries:"
      ],
      "metadata": {
        "id": "haF4KqSHKDXe"
      }
    },
    {
      "cell_type": "code",
      "source": [
        "import torch\n",
        "import torch.nn as nn\n",
        "import torch.nn.functional as F\n",
        "import matplotlib.pyplot as plt\n",
        "from torchvision import datasets, transforms\n",
        "\n",
        "torch.manual_seed(1)"
      ],
      "metadata": {
        "colab": {
          "base_uri": "https://localhost:8080/"
        },
        "id": "vcGjE6u1UxEh",
        "outputId": "8e3ac5a7-2c4a-48ad-e017-3a7054293411"
      },
      "execution_count": null,
      "outputs": [
        {
          "output_type": "execute_result",
          "data": {
            "text/plain": [
              "<torch._C.Generator at 0x78506027dc10>"
            ]
          },
          "metadata": {},
          "execution_count": 3
        }
      ]
    },
    {
      "cell_type": "markdown",
      "source": [
        "We want to implement a digit classification with the MNIST dataset using the following MLP:"
      ],
      "metadata": {
        "id": "QXOQS_E6Kdsn"
      }
    },
    {
      "cell_type": "markdown",
      "source": [
        "![Debug_tutorial.drawio.png](data:image/png;base64,iVBORw0KGgoAAAANSUhEUgAAAdcAAACiCAYAAAATHIcHAAAAAXNSR0IArs4c6QAAEhZ0RVh0bXhmaWxlACUzQ214ZmlsZSUyMGhvc3QlM0QlMjJhcHAuZGlhZ3JhbXMubmV0JTIyJTIwbW9kaWZpZWQlM0QlMjIyMDIyLTEyLTIyVDE4JTNBNDYlM0E0OS42ODRaJTIyJTIwYWdlbnQlM0QlMjI1LjAlMjAoWDExJTNCJTIwTGludXglMjB4ODZfNjQpJTIwQXBwbGVXZWJLaXQlMkY1MzcuMzYlMjAoS0hUTUwlMkMlMjBsaWtlJTIwR2Vja28pJTIwQ2hyb21lJTJGMTA3LjAuMC4wJTIwU2FmYXJpJTJGNTM3LjM2JTIyJTIwdmVyc2lvbiUzRCUyMjIwLjcuNCUyMiUyMGV0YWclM0QlMjJhT2hxYnprXzY0TzF3bFhvblhuVSUyMiUyMHR5cGUlM0QlMjJnb29nbGUlMjIlM0UlM0NkaWFncmFtJTIwaWQlM0QlMjJWazloME43VlJmYzVkS1ktTUtlQiUyMiUyMG5hbWUlM0QlMjJQYWdlLTElMjIlM0U3VnJabHB0SUV2MGFQMDRmOXVWUmlFVklBckVKQVclMkJzQXNTJTJCdzlkUFVxV3lxMHB1MiUyQk8yMjMzY28zTWt5RXN1a1RjaUl5TVNmVUMzJTJCU1EwYmhWTFpSQm1IeEFvbUQ2ZzdBY0VRU0FJQXBjVm1aOFJHQ2JJWiUyQlRhSk1FZCUyQndUb3lSTGV3WHZEYTU4RVlmdW1ZbGVXV1pkVWIwRyUyRkxJclE3OTVnYnRPVTQ5dHFVWm05SGJWeXIlMkJFRG9QdHU5b2hla3FDTG4xRUtoejdodXpDNXhpOGp3eTh6enQyWHluZWdqZDJnSEY5QktQY0IzVFpsMlQzZjVkTTJ6RmIyWG5oNWJzZiUyRnlkT1BnalZoMFgxTEE5TzFERHR5aDVEZDZ5NGt4enZEciUyRjV6NzJWd3MlMkY0JTJCNGJ1dzNmekNBSkM3V20lMkJUJTJGSWtxWmdpYkxnRUVIVjB2ekpTeVRicWtMTUJ6ciUyQnk2TWdjVnN2VUI0JTJGcTNhMVAyUmJBdHM3SUJ6NE13Y3Z1c2U5WERKa3V1YTh1dXJBRHF0dFd6QXFOa0NvSE16Tk9BbXhjVWVrSFdydHpPJTJGWUJ1bm9zSVh4WFhEOGcyTVptVE5rSUg0VnB1d0VmV3p6RjN2b0s3RXdkJTJCMk90Mkk2M1hyUlR0dXJYQzFXUWtrenV2MkFlRUFkME0lMkJPUmJPMkZxWGJ6M01sYUZKSjJMUlVobVZVcGhaNlJyN0d5dlclMkJTOWNveUZITGhWVWh3UHJZSWRLY1ZENkdHaUltNiUyRlZUUGpEQ3NWRWQ0VWRnU1Y1Y1ZIYXZEaFklMkZzYzdTYUF6TlN3bDQwekVoVTRMZXJjZFpLTVhVT0ElMkZub3BGV2NydzRQSWd1bmV5N0g2a0RRR1JFdTJ3Q1IlMkJzWjlDS3lPVUZGdXJOaldSc1o1Smdpa0lNNWR4cXFsaHhRa0p0bGFZNkRFajdKeUxLQ0NORDglMkZKVmdlREF0RjVkcHJqWVRoUXRLaGFGNjBwalF3eFRyYVBjOTRWZ2JJT2hyd2t5aGN2VGFlbWlFRlJvSkRhZ0xpRk5PbXJ3R3YwdG1wdzluSXU0OXBPNCUyRjdIZkNuRHlFWE1lJTJGamVhR0xFS0ZYSzZjQll4R2F5TTglMkZiVEVLYmVQbUZRb21BRnIxVGRrd1VKTjBkZHhaSEs0NGFyZmFQOEdrdm5UeFZwQW1vVUtMR1lUMGY3ZnJhOWhkV2tweGtuRnFuSDJ4M05aMXk1aVZGMXdWd1g1TDV5VGVkeUM3OERZMm5XZ0JUSjBtJTJGQUtZeFZwQXU3Y3BnZnBudGFCS21UWHFzY1JjTXhleFJnN2lHMmRxWnJRV0ZNaFRMc3d5YkhYZDA1dGE4NmdVdHMzdkNobFpURUpTNE90bURhSGVTcHJGU05KdHhmUlhrbFBLOGVtJTJCZE5pS0d3UndodG5KUU1hbkozN2lxODg4TzZuT0draTFuV3ZHYnJtdXhMaElrVlRsamdxb0FFZEpaQmZJemJBZCUyQmRzJTJGbW1ldW5vUm1zcUl1dlVRM0tUV0ZJSkU5N2JLS2dVNCUyQlFTTXFuSm51SkhMWHF4cTAlMkJONWlpdEdrSkdodDRIcm9xY2tOeGxsYUVRTURGaTNHNG1hQnZQcWdvZE43YTV4N1BNd3JaU1RPb0hyRkhpWXpqcGFPT0k3SWNXblJnTHJuQWN6c1ZPUjRsbVRuNiUyRlhpU2xGS3EwVGxjWmUzbllGdEFaMlhvT3Jvdko3cVZ5ZUp5T1RISWdvVGlXa050MVlqZE0lMkYxS053MWpMbnFlbFgwd0hkRVo0MDVOVFhmZWtYWjNOWmJDNFc0YTk5U3hiN3N4YU90YVdFNHlXa2NTWVNPUXAxUXhPeEw3UU44ZE1kazRxVk5saXNxNkFBNHhvSXduT0JidXFTbTEySm5XeW5VMURlb2VscUpWUlRxY0wlMkJ0MHZYbFo4c0lMVEdtVFZuUWYwJTJGWndYYWZjN3lzaWw4dG95ZyUyQjJhZXRzRkVXciUyQlloMGR3N0FGUjRUYyUyQjFQTzExYnlCWFVRNzlmZVRwMDF6b1g2RERvdHhUQ2Jwd1NJellWTFFsTGtCZEtpZUxMeUNsblVGRmVzSXN4aWlObFlnWk9POFMxc0FBYUR6cTNhekcwUDgwR3VWcWlQODRvSEElMkJ1aFRsSnpoazB5dzdrRUNrWW9RTHpZJTJCemxHc2Fqc2d4WU1IQnl3aWRUMm0lMkJzVHF0SXRncFZ2a2FPQnRrNFhCeTRxb2Y2aFFVY0NyRjA4bkVhMEF2RXNPenVNb3ViN1hreU9GV2FJVWxhaklERDUwYno5JTJGQTBnTkhQVTZIVTY2eklBWWNveXpydG9aVlU1a3BlOUpOSzVFb3BxamlhSGc5ZXhNMUpnV0tiOXVZbGNCdU90VmJxM2k0WndjYkRNOWZCNWYzS29MVUlrc21tRXhjOEJyQnpFJTJGcmpoaEQ3eGJEYW03JTJGTjR2UEdMUkpwblZjRXJaWmV3a050OUVLNXE5aGxDMW9nVEpVV2VMcnJKY2pFZTZ0QXJWRm1EVDRhQmRadml2UjA4dDFlTEMwY05KVjJ4a3cyOUVwcEFYNkE5ZWtEQzdZSSUyQnhCbmdCWGh0ajNKNGJhQ2pKTlFiZWNvM1I2WkEyMjc0cXhZdG5Rd2VLMVdmQm5tMWNFVkluY2ZkeWslMkZaUElVWHdxSEZ1YVVYY2xwelhWVjhwUUxwZVdSR21HY1llTG03TFdHcWNSSGJlUEIyN1E2MGJaTmlXVE5ZSm9nRjRmanBaUzkzVTBheHJSMDY4ajJGS2t4UWs0NFk1MU1xcXRETzBEamZvdmZjclp4ZzJUQzlTYVREVHRldEFnWVhLeUZGJTJGSW1UTFJaJTJCN2k2ODgyZFV4NlJKbVJUVTdqWjZTVW11N2dqNENxTUhaUUM1cks2clRwVnVPZ2tPS3c1cktzJTJCS3ZrZEVWQWp0bldQRWllT0hoWEpqT0lxeUo2MlE3S1NSV3RtVGVUQW8yZDhMbklXdWN3UlhwVGt4VDJSdHpyVmIlMkZ1cU1pQzVicnpNS2NsZTV5UWw0YzRTc0o4Qmo3TVVlR2UyWmNKOURrYktvNVFOQSUyRnRrWlZzMkprNzVtSk9tTEpIJTJCV09ySHVvcm12VlltbTBJeEVDM0cyaUtFUzN5V0R0b3BCU1NvaWFuRk9ybVhFOURQTmhjdTJvN0ZZb2FsUnNTcExyV1k3bVNleG11YnVrNVdKcWVkY0JDMWRVRVhkdE1tNWxuV3FQSmM0WEdPaE5wWmNVcjl1bHVzNElEeE1tUkVGT1VWdVNBY1lZdjFvQ051cXVwSUxUdlAxVTZkazhJNmZ4RDZFbXZpMHRJc2M0MFh6aVhocWJaTDVCSHdkbEJKUWxPOE9CTWg3RmNQRVVaOGlaTlFLcSUyRlVGcXQzdVNLYTc0Ynh2dXVhVThITlk0MzBlVVZVMEk1UmN0Vm9aVnBkWFllWjAyVUVad2ZSd1E4dUJacVpHNFElMkJ1c2dpcjk1M2pUeEVoJTJGQVB4ZTJKeVA2d2oxcmJ4RnVVRyUyRlduTVVnOUk0Zjl4ZGtHcXdjS2pFMHViSmJkT1puaVhCc1hXY2FuYUtqbzVwTGExVTF5cUhHQlpCQTU4Ylh2WVU0RFdsUXllNk1ZWHNQUHQ5S254M0FZWFlVcSUyRllOdmJpcGlMQlNraEt6dDJiWmJFRmN3TGk4SXpvNFZuclkxcG94ZGpJb1pjZCUyQk0xV2xZV0o5aXhhakhVTk11YThjcUZqTzV6aHg5WkVLQkF4S2xXcExqcU85b04yclhyUXRiTmFlMkxla2NXbnhqSzNVTElYa2hjcXNnS1RHQmUwcm9pRzBRaUg5eXM0Smx1bnAzb3gzU3N0UTElMkZKdTJoYTR3ckVLd1hMU1BVejY1TUFZJTJGMFNmS2xwTmx1QzU4eTdNSENWMkVoVmdXeDRmbEJDVlo0Unc0Ums1TkRGWkhCNzJPUjNHTkFPUnBVUmtoczAyRmdMdTlWc3hzQWMzRFNvMTBPZGk3bER1UHhGRnolMkJuaENrY05tRHg4ZGU5M1RkQkVuQXJ3c051T1J0YkRSVCUyRmhpcGdvQ2NNdE1PTk5QTWtPOWZKR0NZcUI5cmNxV1RocjBHcGx1TnZyWlBHa0hmR3VMNGhweW84dzlLQWRoY2pqOWFiUVBmOHdoUVBZVmxubllOY0Qyb0hzREFuOXU4WkozdlpUSFYwa005QWRLUEtQeHF4U0d1dWNyN2oxenVuN3MlMkIxTnlzVVlZeiUyRm5GJTJGNUpyRUY5UE5zSUFaRiUyRjNZdGwwY1hrdEN6ZmpQcUhNVTA2eDVnZFBHY0duT3NkeXpTSllHSUJwMkhYelBaVjAlMkI2NEVVTnpsMmYwcElMQ1pyWHY3cDRLOUZ2N0FYNHJzOVBvaE85OUx6N0t1QW41WkpXQSUyQlpkJTJGNDRSZVl1TSUyQjdjNXRyMkgyaEh2NTVGVGNnM095UzRhMGNQMXhkeUlPMmpra1J1czJEenQ1cVpJeVRMdFFyOTRtQXNYR3J0JTJCeiUyRkFOT0dTZkt0YldQUWcyMiUyRlFLOE5HMFolMkZsbVdqRDFRaDFBTk5ZTUxkV3k3YXJpbHY0VXQlMkJYSlRGYXQ5UmttWHZJUGVlSiUyRnVBb0xENVRBS2RKMEh3dERnJTJCUiUyRjViOWZ3QSUyRmtuOEQ1aDZvd0hrTXhvZ1BxT0JuNllBN0YlMkJsQUpnQ0NvQmVmZDZ0QjRyOHRkcUE2Zjg3JTJCbGNPJTJGQnNjUGZFWEhmMjlxVkltUU1LUGRvSyUyQk13d0V3dDkyOFN6WHZkVTdwWDhVNCUyRnZ0QUg4d0F5MDhubiUyRjUlMkZvR2clMkY3VDk0ekV3JTJCb2RzdFFqOVQ2T0tmS0NLcExEZjJOVVQ3eFFBJTJGJTJCS2RsbnJnJTJGMFdpMzVGJTJCaEhwSFAwVCUyRld2b2ZkMWFRJTJCUk5QYjFVODRDNkk2M3BYUGtMUkk5UTlRdmtqNUQ1QzB5OTNTeWolMkJOdjc4OVc3cFpSRjhNZVFwZ3MzNlJuSTE3OHh0MjhSJTJGUzh6bnJQZnJVY2dqU2E5SXdEOUR3Z3YyVjRNTG1uNnJBJTJCSWR0OCUyRkIwVU53OGRBUmhueWxvNThjcGNEZjhBNzA5MUlkOXZLTyUyQm1QQzhMMnFRNyUyRlMwYzlXM2VNWnhiOU1kUWlPJTJGUmpWUFhUMHMxWDNlR2J5RzhjUkdQTDFPUHJ2VGRFZlQwemczNW4lMkJkJTJGSENaMDdEJTJGMTc2SDFOaiUyQm5lbSUyRjkwNXhLJTJCMmZ1VGY4U2JpeHg4b29lJTJGT2ZkOGZLSDNyN3ZNJTJCZ1AlMkI3VDZhUXh6VDIlMkZ3YndEUVlBNCUyQmc3dlJIZlp3QXclMkJaV092dHNBMWo4N2ZmeFA1WFAxVDM5TlJibiUyRkFnJTNEJTNEJTNDJTJGZGlhZ3JhbSUzRSUzQyUyRm14ZmlsZSUzRTPQAakAACAASURBVHhe7V0J2Fdj+n4s2ctQg2YG2Zss2Q1GkohkKTXVNJYsbYQkWo1CWUtFYmyhtGMaEwldWaaQSCZrRiZkKrKrof91v3Od7//rq+97z/s79/s77/md572uru+rnnOf+3mec977vPtGa9euXStaNAIaAY2ARkAjoBGgRWAjFVdaLBVII6AR0AhoBDQCJgIqrvogaAQ0AhoBjYBGgBwBFVdyQBVOI6AR0AhoBDQCKq76DGgENAIaAY2ARoAcARVXckAVTiOgEdAIaAQ0Aiqu+gxoBDQCGgGNgEaAHAEVV3JAFU4joBHQCGgENAIqrvoMaAQ0AhoBjYBGgBwBFVdyQBVOI6AR0AhoBDQCKq76DGgENALBRWDcuHHSuXNnuf/++6V169YV/KZPny6XXHKJfPrpp3LkkUfKww8/LDvuuGNw/JWQRkDFVZ+B4CPwwAMPSJcuXdbh+eOPP8ry5culdu3a0qdPH5k0aZL5/6OOOkpGjx4tW221VYX9ihUrZJ999pHrrrtuPZzgnc8hwaFDh8rs2bONgPbq1atCXL/88kvZY489ZPz48dK4cWOT9yVLlsjEiRNzGCV1OfQIqLiGniHlt14Enn32WSOU+Dl58mQZMmSIPP/887L55ptLu3btZN9995Vrrrmm4rpzzz1XZs2aJb1791ZxzcDz9Prrr0vDhg3lhBNOMPmKWq4Q0fvuu0+efPJJ48WqVaukbt268sUXX5jca9EIhBQBFdeQsqFcrBH4+eef5dBDDxW0Zg844AAZNGiQfP7553L77beba/ETQjthwgTzd4jqwIEDjeDut99+Kq7WCIdj0LRp03XE9frrr5dly5bJiBEjKkhCXNHK3WuvvcIhrkw0Arq3sD4DWYvAmDFjZMaMGTJ27FhDHRVr165djaBus8020qpVKzn99NPlwgsvlNWrV8thhx1mhBaiq+KarWxXFtd+/frJmjVr5KabbqpwZLfddpOpU6fKQQcdlC3nlG3ZR0BbrmWf4vJy8MADDzRdgwcffHCFY506dZIHH3xQNttsM1PJQnzRTYgWK1q6+HnxxReruGbsUagsroMHDzZjrBhTj8r2228vc+fO1ZZrxnKbB7oqrnnIcpn4iEq0Q4cO8v7771d4NGrUKHn88cdlypQpssUWW0jPnj3lm2++kauuukratm0rc+bMMUKr4pq9h6CyuCLHI0eONF39KJjwtOeee5oxV3xYadEIhBQBFdeQsqFcqo0AWqBff/213HLLLRV26AI+5ZRTBK1XlJdeeknOOussueiii8ykp6jSxXWbbrqp+Xe0gLSEH4HK4oocQkyx/ObYY4+VHj16yFdffSUPPfRQ+M4ow9xFQMU1dynPrsPNmzc3wtm+ffsKJ/r27SuLFi0yyzFq1Kgh/fv3l4ULF8pjjz22jqPacs1O3g855BB56623zPjqJptsIhtvvLER0DZt2pgZ4phB/MknnxiBxXAAlmNp0QiEFgEV19AyonyqjADGW7EGskmTJhU23377rWmNYmITKmGsZ8WY3M4776ziqs+SRkAjkFoEVFxTC73eWCOgEdAIaATKNQIqruWaWfVLI6AR0AhoBFKLgIpraqHXG2sENAIaAY1AuUZAxbVcM6t+aQQ0AhoBjUBqEVBxTS30emONgEZAI6ARKNcIqLiWa2bVL42ARkAjoBFILQIqrqmFXm+sEdAIaAQ0AuUaARXXcs2s+qUR0AhoBDQCqUVAxTW10OuNNQIaAY2ARqBcI6DiWq6ZVb80AhoBjYBGILUIqLimFnq9sUZAI6AR0AiUawRUXMs1sxnwa6ONNgqe5dq1a2kc1V9aKGlAzPyCVN5yTEtEGQKpuJZhUrPiEioiduXG9J3Nj43H9DUSBmY+8uavjxiGnmM2v3LCU3Etp2xmzJe8Vb7qb1gPqI98+MBkRi10fkxf08ZScU07Azm+f+gvOpsfG4/96LD5sfFC91dbruwMZRtPxTXb+cs0+7xVvupvWI+rj3z4wGRGLXR+TF/TxlJxTTsDOb5/6C86mx8bj/3osPmx8UL3V1uu7AxlG0/FNdv5yzT7vFW+6m9Yj6uPfPjAZEYtdH5MX9PGUnFNOwM5vn/oLzqbHxuP/eiw+bHxQvdXW67sDGUbT8U12/nLNPu8Vb7qb1iPq498+MBkRi10fkxf08ZScU07Azm+f+gvOpsfG4/96LD5sfFC91dbruwMZRtPxTXb+cs0+7xVvupvWI+rj3z4wGRGLXR+DF+HDBkiw4YNkzVr1kj79u1l5MiRsskmmzCgnTBUXJ3CpcbMCIT+orP5sfGYufDR6sqbvz5iGHqO2fyS4j3zzDNy/vnny6xZs2T77beXFi1aSLt27aRbt25JoZ2vV3F1DplewIpA3ipf9Zf15HBwfOTDBybH2/+hhM4vqa8Q0V122UV69+5toKZNmyZDhw6V5557Lim08/Uqrs4h0wtYEQj9RWfzY+Ox8hDhsPmx8UL3NwviFXpOkub4hBNOkK5du0qrVq0M1DvvvCNNmjSRpUuXJoV2vl7F1TlkegErAqG/6Gx+bDxWHlRceZHMW455keMgHX300dKvXz9p3ry5Afzoo4/kgAMOkFWrVnFu4ICi4uoQLDXlRiBvFZH6y31+kqL5yIcPzKR+Fl4fOr+kvp544oly3nnnmXFWlAULFsjJJ5+sLdekgdXrsxWB0F90Nj82HjvbbH5svND9Bb88+hzl5dZbb5VOnTpJzZo12amKjde9e3epXbu2XHPNNeaa8ePHyz333CMzZ86MjcEy1JYrK5KK4xyBvFVE6q/zI+L1Ah/5YGAuXLhQevbsKW+88Yb89NNPUq9ePRk8eLBgPDFpYfCrisOWW25p+IJ73759UxHZF154QTp06CCzZ8+WWrVqSbNmzaRz585mBnGpi4prqSOu96uIgM8XnRFmNj82HsNHn12GefOX1XLde++9jUBdeOGFpiU8efJk6dixoyxZssQsL0lSfOZk+PDhZpbuzz//bHj36NEjFZHFGtcbbrhBVq9eLeeee66ZLQw+pS4qrqWOuN5PxTXQZ4Bd8bLx2GHzwS8pJjY+2GKLLeTf//631K1bt8Ll9957T3bffffEmyEk5WfLAbpkV65cacw222yzVEXWxtX3/6u4+o6w4lcZAd8vetLQs/mx8ZL6V/l6Nj82Xuj+slquZ5xxhpmAc9lll5llJIUimzQGyAnGI6MxyaR4ca6vUaOGnHbaaaYFnqei4pqnbAfma94qX/U3rAfQRz4YmGi93nXXXTJp0iSZO3eu1K9fX/r37y+tW7dOHEAGv+pI1KlTR1asWKEtV0xuW7t27drEGVMAjUAREfD9ohdBaZ1L2PzYeEn905brRsKu/tg5/v7772Xq1KlmUg629jviiCMSpZ3Nr5AMxlz79OljJjWlOeaaKEDEi1VcicFUKLcI+HzR3Zhs2JrNj43H8LEQg82PjRe6v4xu4Y8//lgwWxhrMwvLSSedJC1btjQim6T4zEkIs4WTxIZ9rYorO6KKFzsCPl/02CSqMWTzY+MxfFRx5XbcJc0xtus77LDDZMyYMXL66aebFuDzzz9vhPXZZ5+Vhg0bJkp7Un7V3TyEda6JgkO+ONPiigfugw8+IIckH3AYG7n55pvlkEMOSc1hny86wyk2PzYew0cV17DEFfl4+umnzYSjt99+24grZglj3SgmOiUtoT+DSf0L6fpMi2uDBg1k0aJFIcUzM1x+/etfy4QJEwR7caZVQn/R2fzYeOy8sfmx8UL3F/zy6DM7L+WCl2lxRavrtddeK5dclNQPFVd7uNkVJRvP7oGbBZsfG8/NG7u1D34+MO2exLcInV98T8K3VHENP0deGKq42sPKrojYeHYP3CzY/Nh4bt7YrX3w84Fp9yS+Rej84nsSvqWKa/g58sJQxdUeVnZFxMaze+BmwebHxnPzxm7tg58PTLsn8S1C5xffk/AtVVzDz5EXhiqu9rCyKyI2nt0DNws2Pzaemzd2ax/8fGDaPYlvETq/+J6Eb6niGn6OvDBUcbWHlV0RsfHsHrhZsPmx8dy8sVv74OcD0+5JfIvQ+cX3JHxLFdfwc+SFoYqrPazsioiNZ/fAzYLNj43n5o3d2gc/H5h2T+JbhM4vvifhW6q4hp8jLwxVXO1hZVdEbDy7B24WbH5sPDdv7NY++PnAtHsS3yJ0fvE9Cd9SxTX8HHlhqOJqDyu7ImLj2T1ws2DzY+O5eWO39sGPgYnzUK+++mqzcT8KdmwaNWqUOfw7aWHwS8ohL9eruOYl05X8VHG1J55dEbHx7B64WbD5sfHcvLFb++DHwBw/frzcdNNNZtvDrbbaSv70pz/Jb37zG7nxxhvtTlksGPwSkygBwH/+8x8566yzzLm42Ks5jaLimkbUA7iniqs9CeyKiI1n98DNgs2Pjefmjd3aBz8GJkQBewhfccUVxomnnnpKevfuLfPnz7c7lbK4hrC/8Ndffy2/+93vpEWLFvLEE0+ouBbz1OgOTcVE7X/XqLjaY8eoKAvvwsaze+BmwebHxnPzxm7tgx8Ds1mzZtKuXTvp2LGjceKVV14xG/ejFZa0MPhVxyGEk3G++eYb+eyzz8yfLl26qLgW89CouBYTNRXXuFFjV0RsvLh+xLVj82PjxfUjrp0PfgxMtFz3339/ufLKK40r06dPN4elz5s3L65rVdox+FVHAme6opWNcWPcq0ePHubQgZo1aybm7grwwgsvqLi6Bi2yV3EtNnLaco0TOXZFxMaL44OLDZsfG8/Flzi2PvgxMCdOnChDhgyRF198UbbYYgtp27at/Pa3v5VBgwbFcataGwY/G4natWvLypUrjdlmm22WmsiquNoyVc3/H3jggfLGG28kQMjvpdotbM89uyJi49k9cLNg82PjuXljt/bBj4FZOFt47dq10qhRI0GLcOutt7Y7ZbGI+A0cONAca1eqUqNGDTnttNNk8uTJpbqlqLgmCDW6TtKaCZaAdhCXqrja08CoKAvvwsaze+BmwebHxnPzxm7tg58PTLsn8S1KwQ9nRa9YsUJbrmvxaZTRot3CxSdOxdUeO3ZFxMaze+BmwebHxnPzxm7tg58PTLsn8S1880MLu0+fPvLTTz+l1h0cRUNbrvGfi/UsVVyLD56Kqz127IqIjWf3wM2CzY+N5+aN3doHPx+Ydk/iW/jmF8Js4UcffVTat28vaDeuWbPGjPvus88+JR9C1HWu8Z/LsrJUcbWnk10RsfHsHrhZsPmx8dy8sVv74OcD0+5JfAvf/EJY5xo/Gn4tcy+uTZo0MRMFMImgefPmssMOO5jfMdsNP/EHXz/o5vjXv/4lr732mvki+v777wXrqVCWL18uq1at8pspMrqKqz2g7IqIjWf3wM2CzY+N5+aN3doHPx+Ydk/iW4TOL74n4VvmXlxPOumkCnE944wzZKeddjJCigH5//73v0ZIV69ebX5+8MEHMnfuXPP7d999J9gJBAVbbX355ZfhZ7uAoYqrPV3sioiNZ/fAzYLNj43n5o3d2gc/JuaDDz4o3bt3l65du8oNN9xgdyiGBZNfjNvl2iT34tq0aVPBOAEEs1WrVlK3bl0jrp9//rn5WSiu7733ntnvE/8GYf3iiy/MwwOh/eGHHzL1IKm42tPFrojYeHYP3CzY/Nh4bt7YrX3wY2KeeeaZ0rhxYyOwrMLkx+JUrji5F9dZs2bJzjvvbLp/IawY/K6uwA4FwouuYZSPPvqooouY/aBA5NEt/e2335o1YuiC/uqrr2Tx4sWGQ7FFxdUeOXZFxMaze+BmwebHxnPzxm7tgx8Lc/Dgwaa1uu2228p5550nWJfKKCx+DC7ljpF7ccV07Uhc0SW8+eabx8o5hA0tVt/iiv0x0T0NccURVBBbiCu6qFVcY6WqaCN2RcTGK9qxKi5k82Pjhe4v+DF9xjBV69atzak4rMLkx+JUrji5F9epU6eaFisKxBXbjUVdwdHLErVmN9lkE8FOIygbb7yxae2iLFu2zIgfSrS+K7KJ++AAK1pyjPtEBV3PaLlCyCdMmGDEFZOn3nzzTSO6xRZtudojx66I2Hh2D9ws2PzYeG7e2K198GNiqrjacxiyRe7FFWOu0bZiu+22m2yzzTZGzNDVC6GE2EKINt10U8GemTvuuKPJJ1q7u+66q/n9F7/4hbFDweQmXI+CnUqq62aOxBm2EGeM20JggVf5OsxMRrcwJlp9+OGH8vDDD1e0nIt5wFRc7VFjVpTRh1rIe7aov/ZnwmbBjKGKqy3aYf9/7sUV5/5F4rrHHnuY3yGOWHaDliEmO+GgYogrlumgdYtSr1492X333c3v2223nRFlFLRiMbsYLxnENRLdDT0Gha1ViCf+oNUKvMrd05G4YokQuoTHjBmj4ur53WJWlCqunpNVBDw7v+wcq7gWkdSALsm9uNavX7+iqxfCGe0wEk0kgsihxQrRw+QCCB/KL3/5y4ruZLRmcR0KzlyMxBWtQ1vLNWrJQDyjtbLHH398hYijGxqVAGYno7WKCU0QfnQRR2O+xTxP2nK1R41d+bLx7B64WbD5sfHcvLFb++DHxFRxtecwZIvciyvGTqOCF6Pw5YDw4e/RF2nhT4guWrmwQQsWwouCgwR+/PFHcx2Ee6uttqoy/2ghR13DGFtFqxfl3nvvlSOOOML8DlwIOyYx3X777WbMdenSpfLEE08kWv6j4mp/LZkVJbtVY2fvbqH+uses8hXMGKq4Js9HmgiZFte9995bsPY0jVIoruhOjsQVE40iccUZjC7i+umnnxpXsHg8EleMv6q4ppFh7sxPFdd0cljdXZlCWPiBnqdx9fCyGg6jTItrmhv3o7sWf/AioYs4GluFQKJFihcX3cXVdQtjwlTUcsWYbTQT+bbbbhP4hoLuYthgByise1uyZIn5HS3kaOJUMY+TtlztUWNXvmw8uwduFmx+bDw3b+zWPvj5wLR7Et8idH7xPQnf0ru4/vOf/5QuXbqYEwkwpnnzzTebQ3NRJk6caA7sxRglZt/efffdstdee8WOWpriGptkTMMDDjigwvcBAwYI/o6Cljnig27jXr16mb9DVCG6Sb6QVVztiWFXRGw8uwduFmx+bDw3b+zWPvj5wLR7Et8idH7xPQnf0ru44kDzCy64wGzhNWPGDGnTpo0ZW0Tra99995V58+aZMcsRI0YI1pxix6S4pZzEdb/99jPiCsH885//LA0bNqwQV4gpZgmruMZ9Mjh27IqIjcfx8v9R2PzYeKH7C3559Jmdl3LB8yquWMpy//33S8eOHc1SFhSMIUJQMSmnW7dupnsTBT8xSzaa1BMnwFkXV3QlR7OMzz77bGnZsqURVwgr4oQybNgws3YWWy3inELEJzqpJ06MqrLRlqs9euyKko1n98DNgs2Pjefmjd3aBz8fmHZP4luEzi++J+FbehXXyu6//PLLgs2oo714cYDt9OnT5cADD5Trr79e0IU8duzY2FHLurhislOtWrWMvz169JBzzz3X/I7JUdFY7WWXXWY+RLDBxIsvvkg7fSdEcf39739vhhAqb/f26quvSrt27eT999+P/WwwDNkV0YbwZs6cKSeeeOI6Y/MYq0cc+vTpU60b+HjFOP3HH39s1mIXFmw4gjF6xK6w4Bnbc889pX///uth+/a33POLgDJjiGcDKw4q5zbJs83kl4RHHq4tmbhiVyEc73bHHXcIdkVCeeihh+T88883AoMW3HPPPWde/Lgl6+IKn6PZxOjyRQu/KnHFDGSIa3QST9wYVWWXJXGFiGAYAZty+CyYYFa49aRrRWQ7KLoqcYWQFn44LFiwQE4++WQZNWqUnH766VW6nLa4uvpblbhmJb9IhKvPSZ5X5B4fWNjohlVcn2nWffOIUxJxRWWB49wwC7ZFixYmzpjghHVcEFTsdoRN6fv16yeLFi1ap4KrLilZF9dGjRrJoYcearqC8eFx7LHHGncxgQkVPdbg4uMj2i0Kk5miPYyTPqw+xNVW8VTmXPlFj9OyGT58uOB5QkseO1WhYp4yZYrZivLdd9+VTp06CQ47wOxrjOMfddRR5rZY3oTeEYxf77LLLubDDpPohg4davZpnj9/vpxyyinGJiquFVG0AUnPnj2lb9++UrNmzXVcjiuuuAitd7Ra0MKsyq+0xdXV36znF3lx9bnY9/TGG280cy/wnmISKOpPRnF9phn3zCuGd3HF0Wjo9sJ2fUcffXRFnDGW+Morr8i4ceMq/g1rR/EFj0ovTsm6uKIFf9xxxxlXjznmGEHlgwIBjZbodOjQoeJ4OXT/JdmVqTCmPsTVVvEwxBUbaWCGOcboMfscrT7soAVRPPjgg83B0hdeeKF5tvDxhh4TzKyGv2+99ZaZPNe5c2fTfTd69GgZOXKkXHvttTJnzpyK7SyLFVcIf+/evU3ugI+u/kKRjSuu+PDEO4N3A/MQqvILH19pdgu7+htHXEPOL54LV5/j1GNV2WCS4z333KMt1yRBTPFa7+IK8UAF2LZt23XcxMxhtDIwJoTuPowvYFwNrY5o8pMtLuUgrpGgIk4Q2MriiolO0fFyGKsOWVxtFQ9LXJ9++ml5/PHHDRxap5ggB4Fs0KCB2ckq2nXrsMMOk1tuucX0CGD7yKgl+cgjj5iJdngGUZn/7W9/kyeffHK9x62Yr3wIPWZ2o2DcvFBkMfxRefkUnvtmzZpVcEP3P9ZNo8WK9wPrmqvyCx+raYorfHTxN664hpxfV59tdVh1/6/imiR66V/rVVzRakBLofIm9KjcMDMWEy6w1V90Egy66NBVGrdkUVy33357wY5OEIBzzjnHfFCgYOZwtBEF4oDxVZTnn3/eCANK4XaJcWNUlZ2Plqut4rF1k8atfNHKxD7LKBBH/B0TvzA2VTj5Az0Ad955p+lSQ2v3qaeeMtdg3BpdwxA2XP+Pf/xjgxPpIIzssiFxLRxzxbaWl1xyiRkegTjj47Mqv9Ayr0pcsawNHxzo7i4s6AnB8ji0sDf0sePT3xDzi+cCf5IW5AHr9zFEkWT9eSEPFdekWUn3eq/i6tu1LIorWunYtjEaT41mxqIij1pcAwcONGPRKKhcWa3VwnzEEVfwYFY8mMFaWIoZc43EtLK44kMNlREmPlUu+JgbPHiw+VDBEidc+8ADD1SIa6FYV8cvzvOM/OJYQJS4LdfKE5rwgYmK+oorrjAHQVTlV3VjrnPnzjWTorAXdWFP0EEHHWTWS//xj3/coLi6CoOLv0nENZT8ImguPsd5ZqqyUXFNEr30r1VxLXEO0I0WtVwxNohuX5QQxbWY0FRX8fhsuUIw8bEFQWrfvr1ZG3zppZeaXb8gpGi1Tps2zbRasZEJxmEhqpXFOom4olscszsxGS3JmOtLL71kJldhAhviWZVf6OmoquWKcV8scWvcuLH5QMIsaPC766675O23315vslX0DLqIq6u/ScQ1hPwiRq4+F/MORdfgQ2jIkCFmsiOrFDPUwbp33nBUXEuccYyfYa0vWhOo+KJxVoynYmw1eoEx7oQXITpAnU0zTsvV9Z62iqcy3oZaruiiLeyOveqqq8wQQrTOtaqWKypfzKrFZCVM/EIvwOWXX27G+yG0p556qhkLRbcxKix0qZ533nnm2EBWy9U2oSvuhCbECfzAFf5W5VfUci1cPoRr//73v5sJUWj1oosZ3d8QTYzRYiIhDpTYUHGteF39hbhmOb+ImavPru9Qof2gQYPM0p/rrrvO7HDHKK45ZtwzrxiZFtc0T8Up9oHB8gpM7kKXYeEMYSy3iU74wSSdZ555JnPiaqt4bOJabEx9XedaEdmWIrni+fKrKlxXfnnzF3HLo8+lfg7L5X6ZFtcsjblG46nYTxldwRBXHCuHGa0o6KrDekuUv/zlL2Z8EJUd1ry6dNXFfTB9tFxtFU+5i6st9q7iZcNj/z+bHxsvdH/BL48+s/NSLngqriXIJIQ1mjGN1iqWWeDvWKf5q1/9yjD461//anbkwcuJbSA/+eQTr8x8iKsr4bxVROqv6xPi195HPnxgMqMQOj+mr2ljqbiWIAOF4oqZoFdffbVZdrPDDjsYgUXBpvzYwQq2GGPDLE+fRcXVHl12RcTGs3vgZsHmx8Zz88Zu7YOfD0y7J/EtQucX35PwLVVcS5Cjrbfe2hwnh4knhx9+uJlkgpYrHvRoMgomoWB9K8QVB66vWrXKKzMVV3t42RURG8/ugZsFmx8bz80bu7UPfj4w7Z7EtwidX3xPwrdUcS1BjiBkmO0KQY1mC2PMFbODoxnCWNeK3YRQMMbqY5y10FUVV3vi2RURG8/ugZsFmx8bz80bu7UPfj4w7Z7EtwidX3xPwrdUcS1BjiBkWHuJNYlYBoHZwvgd+yhHp6FAXLFBd6mKiqs90uyKiI1n98DNgs2Pjefmjd3aBz8fmHZP4luEzi++J+Fbqrh6yhEe4t122820VnHqz0UXXWTGWbfbbjvBObbo/sUWh88++6zpHsam8tF+uZ4orQOr4mqPMrsiYuPZPXCzYPNj47l5Y7f2wc8Hpt2T+Bah84vvSfiWKq6ecgTxxIbxOPoM63ExiQlnt2LhP5bXoGBbPhx9hgceE5gwkalURcXVHml2RcTGs3vgZsHmx8Zz88Zu7YNfEkychoT9xrFt5ezZs81uYtgbGxt/YA08Np3BedhJShJ+Se6bx2tVXD1lHeKKZTeYzARxxT69lcV1woQJ5ig+FVdPSUgIy66I2HgJ3VvvcjY/Nl7o/oJfEp9xjCK2rISw4hxi7P+Mte84PhFzMLC6AB/g2FWs2JKEX7H3zOt1Kq7kzKOligcYY6rYbBxb2G277bZmf1j8G75G8RJh71ecgIJDvGGPzfmx322pirZc7ZFmV0RsPLsHbhZsfmw8N2/s1j74JcFEvYCjJ7FdJ8qAAQPMIRBY/46CFQcTJ04U7DlcbEnCr9h75vU6FVdyTJsq6QAADctJREFU5nHqClqtmA2M/W533XVXM9aKr038O86rxcbsEFecIXrfffeRGcSDU3G1x4ldEbHx7B64WbD5sfHcvLFb++CXBBPi2qJFC8FWqCg4cAEf3NEqAmydijrl0EMPtTtXhUUSfkXfNKcXqriSE49u4Ehcx48fbyYzVRZXbF6Ok1NwUgvOs02jqLjao86uiNh4dg/cLNj82Hhu3titffBLgqnias9ZlixUXMnZQjcvuoYhsEceeaTUqlXLTGLCphAYN3nnnXfMZhE//vijLF261OwpnEZRcbVHPUlFuSF0Np7dAzcLNj82nps3dmsf/JJgqrjac5Yli0yL6/7772/GL0MqWFqDMVa8ZFhyg5NiIKTYKxhdwYsWLTJ7C3///fdm/HX58uWp0FdxtYc9SUWp4ppsco89O8kt2PkFoySYKq7JcxoSQqbFFTPrMH09pIKzM9FaxUuGDSMwQxjiumzZMtMVjE35+/Xrp+KasCIqRc6TVJQqrsmEJov5TSquWfW5FLyzeI9Mi2soR85hRnB06g02hsCkJlTMOBAdP3EQOrqCv/zyS/MHrds1a9aYliy6jNMo2nK1R13F1R6j6izY8UvGZv2rffDzgcn0O3R+TF/TxlJxJWQAM4IxOxhl7ty5RlwLC/YPxsy/r776yojrnDlzjLimWVRc7dFnV0RsPLsHbhZsfmw8N2/s1j74+cC0exLfInR+8T0J31LFlZAjjLFGp9tgr+DK4rp48WIZNGiQEVeMs2Ipjopr/roNQ6/Y2PzYeIRXdR0IH/x8YDL9Dp0f09e0sVRci8wAxlWxTzBmAGOLMuzChIL9hDFTGOOrWGaDLmFMWpoyZYp8/fXXxj6truBCV7Xlak88uyJi49k9cLNg82PjuXljt/bBzwem3ZP4FqHzi+9J+JYqrkXmqFBc7777bjN5CQWiFYnr6NGjBa1W7LLy2GOPmZZrKEXF1Z4JdkXExrN74GbB5sfGc/PGbu2Dnw9MuyfxLULnF9+T8C1VXIvM0Y477ih16tQxLdHhw4ebc1pR8O8QV7ROR44cac5rXblypdnqEC3XUIqKqz0T7IqIjWf3wM2CzY+N5+aN3doHPx+Ydk/iW4TOL74n4VuquBaZoyZNmkijRo3M1R06dDDdwSgQVhSMqV5++eUyb948s+wG61uj03CKvCX1MhVXezjZFREbz+6BmwWbHxvPzRu7tQ9+DEx8sKPuwBGUWFGA03Duueces/ogaWHwS8ohL9eruBaZ6aZNm5pNtvEi4CD0SFwjOIjrpZdeKq+++qoRVxwZpeK6brBDf9HZ/Nh4RT66VV7G5sfGC91f8GP4PG3aNOndu7f5MAfe4YcfLn369JF27dolDgGDX2ISOQFQcXVINPYNxh8UbLDdrFkz8ztasOgOLiwqrvbAhv6is/mx8ewRdrNg82PjuXljt/bBj4GJD/Zvv/3WbKOK0rlzZ3MASN++fe1OWSwY/BKTyAmAiqtDorFZBB5yFHQF47xFFOzCVLnLRsXVHtjQX3Q2PzaePcJuFmx+bDw3b+zWPvgxMHHkXK9evcxQEvBwSs7FF19stk1NWhj8knLIy/Uqrg6Z3nnnndcRVwgsvjIhrtE61whOxdUe2NBfdDY/Np49wm4WbH5sPDdv7NY++DEw0VLFlqlYyod65YILLjCna6m42nMakoWKq0M2sNwG+xlDUE877TRp1aqVuRqHoOOlQsHpN9G2hldeeaW89tpr8sMPP5ivz7Q3jih0VSc02RPPqCgL78LGs3vgZsHmx8Zz88Zu7YMfA7N169bmRK2ePXuavdNbtmwpf/jDH+SGG26wO2WxYPBLTCInACquDonGA4+ZeyjHHHOMnHTSSetdjU0jsAwHfwYOHCgLFiww4rpkyZIgNo+ICKu42hPProjYeHYP3CzY/Nh4bt7YrX3wY2BiB7ezzz7bbKmKyUxnnHGGdOzYUXCc5amnnmp3rBoLBr9EBHJ0cabFdd999zWnzJSqxBHXjz/+2LRQIa7YTxhfnujiUXFdP0uhv+hsfmw89nPP5sfGC91f8Mujz+y8lAtepsW11KfiVCWun3/+uXzzzTfmmbjtttsqzm6dP3++2UsYWyF+9913pjs5lKItV3sm2BUlG8/ugZsFmx8bz80bu7UPfj4w7Z7EtwidX3xPwrdUcXXIUVXiiq5g7MKEctFFF8m7775rfseOTCGNsxa6quJqTzy7ImLj2T1ws2DzY+O5eWO39sHPB6bdk/gWofOL70n4liquDjkqFFesbY3WuUJccZQcSteuXVVcY8Y09BedzY+NFzPMsc3Y/Nh4sR2JaeiDnw/MmO7EMgudXywnMmKk4uqQKJyCU7t2bXMFjpWLNo7ADkzR7ktvvvmmWQCOglnD+BNi0ZarPSvsioiNZ/fAzYLNj43n5o3d2gc/H5h2T+JbhM4vvifhW6q4hp8jLwxVXO1hZVdEbDy7B24WbH5sPDdv7NY++PnAtHsS3yJ0fvE9Cd9SxTX8HHlhqOJqDyu7ImLj2T1ws2DzY+O5eWO39sHPB6bdk/gWofOL70n4lpkW1/DDqwyri0DoLzqbHxuP/XSx+bHxQvcX/Bg+33rrrTJ79mxzKg7KiSeeaNa6duvWLXEIGPwSk8gJgIprThIdopuhv+hsfmw8dk7Z/Nh4ofvLElcs3cPmEUOGDDEnamFnphdffLHiOMskcQg9J0l8C+1aFdfQMpIjPqG/6Gx+bDz2o8Lmx8YL3V+WuAIH26aec845ZjOaiRMnyv77709xP/ScUJwMBETFNZBE5JFG6C86mx8bj/3MsPmx8UL3lymuwDr66KPNxv3oImaV0HPC8jMEHBXXELKQUw6hv+hsfmw89mPD5sfGC91fprg+8cQTctNNN5l9ya+++mo55ZRTKO6HnhOKk4GAqLgSEoH9jbt06WL2Ed5pp53k5ptvNqfmoKBLB3sMYx0sjqy7++67Za+99iLcNfsQob/obH5sPPYTwObHxgvdX5a4Yp18w4YN5dFHHzXiihNxFi5cKFtvvXXiEPjOCSZjderUSWrWrJmYazEA2GIWR/M98MADZrwax/dh7DqNouJKiDrGQ3DmYvfu3WXGjBnSpk0bWbZsmdm1CYcLzJs3T3bffXcZMWKETJ06VWbNmkW4a/YhfL/oSSPE5sfGS+pf5evZ/Nh4ofvLEtcrrrjCjLVin3IU1C0Qq2HDhiUOge+cbLnllmYvdRyX17dv35KL7MMPPyyDBw+W5557zkwAa9KkiQwYMMB8oJS6qLgmjDhegvvvv98cCbXpppsaNOzeBEFdunSpmT6Pr04U/Dz++OON8GrhLFvwGUd2RcTGY/vO5sfGC91flriy/SzE852T4cOHS+/evc3OdLhXjx49SiqyqIcbNGggvXr1Mm6PHj1aZs6cKZMnT/YZ1g1iq7iSQ/7yyy/LmWeeKdhvGCfl7LPPPjJ9+nRzyPr1119vjsgbO3Ys+a7ZhPP9oieNCpsfGy+pf9py3Yh+UlXecryhZxBbxEYHmeBM2lKK7Pnnny/169evEFecgTt06FB5/fXX2a+LFU/F1Rqi+AYffvihOUD9jjvukKZNm5oLH3roIUHCa9WqJegyQXfFnnvuGR+0jC3zVhGpv2E9zD7y4QOTGbWI38CBA81ckFKVGjVqmHkovluQjzzyiFx77bVm6A3dwmjooKfw7bffLpWrFfdRcSWFfMGCBdKqVSszTtKiRQuDiglO2FkFglqvXj2ZNGmS9OvXTxYtWmSm2Oe9ZKUiYuVJ/WVFkoPjIx8+MDne/g+lFPzq1KkjK1asMPcrdcsV3dEYYx0/fryABwR92rRpMmfOHGYYY2GpuMYKU/VGixcvNluUjRkzxqxNiwomILzyyisybty4in/bfPPN5f333zczh/NeSvGiJ4kxmx8bL4lvG7qWzY+NF7q/pRKvJHHwnROMufbp08dMaipld3BVMbnlllvkvffek7vuuitJ2Iq6VsW1qLCte9Fxxx1nluK0bdt2nf/AzGFMS3/11VfNVxQG1tu1ayefffZZxeQnwu0zC+H7RU8aGDY/Nl5S/ypfz+bHxgvdXxVXMUNfac4Wxn7Md955pzz22GPy6aefSuPGjU0rFmdxl7qouCaMOMZZscwGLdLCgr7/li1bmn1B7733XjNxArOIMbiOg9a1lKaLKkmc2eLAxkvim7Zc/Tx/ectx5eco7XWua9asMUuXsAkHuqQxrowGThpFxTWNqOs9TQTyVhGpv2E9+D7y4QOTGbXQ+TF9TRtLxTXtDOT4/qG/6Gx+bDz2o8Pmx8YL3d88fjCyc1JOeCqu5ZTNjPmSt8pX/Q3rAfWRDx+YzKiFzo/pa9pYKq5pZyDH9w/9RWfzY+OxHx02PzZe6P5qy5WdoWzjqbhmO3+ZZp+3ylf9Detx9ZEPH5jMqIXOj+lr2lgqrmlnIMf3D/1FZ/Nj47EfHTY/Nl7o/mrLlZ2hbOOpuGY7f5lmn7fKV/0N63H1kQ8fmMyohc6P6WvaWCquaWcgx/cP/UVn82PjsR8dNj82Xuj+asuVnaFs46m4Zjt/mWaft8pX/Q3rcfWRDx+YzKiFzo/pa9pYKq5pZyDH9w/9RWfzY+OxHx02PzZe6P5qy5WdoWzjqbhmO3+ZZp+3ylf9Detx9ZEPH5jMqIXOj+lr2lgqrmlnIMf3x4seesGe0Kyi/rIiycNh5jdqufLY+UFi++yHZfZR/w8502D7mBpGxgAAAABJRU5ErkJggg==)"
      ],
      "metadata": {
        "id": "yxj2d7WnKXJA"
      }
    },
    {
      "cell_type": "markdown",
      "source": [
        "**Run the following code** that attempts to implement the aforementioned model."
      ],
      "metadata": {
        "id": "7nOa0nxKUxK5"
      }
    },
    {
      "cell_type": "code",
      "source": [
        "# Neural Network Module\n",
        "class Net(nn.Module):\n",
        "  def __init__(self, input_size, hidden_size, num_classes):\n",
        "    super(Net,self).__init__()\n",
        "    self.fc1 = nn.Linear(input_size, hidden_size)\n",
        "    self.relu = nn.ReLU()\n",
        "    self.fc2 = nn.Linear(hidden_size, num_classes)\n",
        "\n",
        "  def forward(self,x):\n",
        "    out = self.fc1(x)\n",
        "    out = self.relu(out)\n",
        "    out = self.fc2(out)\n",
        "    return out\n",
        "\n",
        "# Hyperparameters\n",
        "batch_size=128\n",
        "epochs=20\n",
        "lr=0.005\n",
        "\n",
        "input_size = 784\n",
        "hidden_size = 500\n",
        "num_classes = 10\n",
        "\n",
        "# Model initalization\n",
        "model = Net(input_size, hidden_size, num_classes).to('cuda:0')\n",
        "loss = nn.CrossEntropyLoss()\n",
        "optimizer = torch.optim.Adam(model.parameters(), lr=lr)\n",
        "\n",
        "# Datasets\n",
        "train_data = datasets.MNIST(root = './data', train = True,\n",
        "                        transform = transforms.ToTensor(), download = True)\n",
        "\n",
        "test_data = datasets.MNIST(root = './data', train = False,\n",
        "                       transform = transforms.ToTensor())\n",
        "# Data loaders\n",
        "train_loader = torch.utils.data.DataLoader(dataset = train_data,\n",
        "                                             batch_size = batch_size,\n",
        "                                             shuffle = True)\n",
        "\n",
        "test_loader = torch.utils.data.DataLoader(dataset = test_data,\n",
        "                                      batch_size = batch_size,\n",
        "                                      shuffle = False)\n",
        "\n",
        "# Training over all batches\n",
        "def train(train_loader, model, loss, optimizer):\n",
        "  losses=[]\n",
        "  model.train()\n",
        "  for images,labels in train_loader:\n",
        "    outputs = model(images)\n",
        "    l = loss(outputs, labels)\n",
        "    l.backward()\n",
        "    optimizer.step()\n",
        "    losses.append(l)\n",
        "  return torch.tensor(losses).mean()\n",
        "\n",
        "# Test over all batches\n",
        "def test(test_loader, model, loss):\n",
        "  losses=[]\n",
        "  err=0\n",
        "  model.eval()\n",
        "  for images,labels in test_loader:\n",
        "    outputs = model(images)\n",
        "    l = loss(outputs, labels)\n",
        "    losses.append(l)\n",
        "\n",
        "    predictions = torch.argmax(F.softmax(outputs, dim=1), dim=1)\n",
        "    err = err + (predictions!=labels).sum()\n",
        "  return torch.tensor(losses).mean(), err/len(test_loader.dataset)\n",
        "\n",
        "# Training loop\n",
        "train_losses=[]\n",
        "test_losses=[]\n",
        "for epoch in range(epochs):\n",
        "  train_loss = train(train_loader, model, loss, optimizer)\n",
        "  test_loss, test_err = test(test_loader, model, loss)\n",
        "  train_losses.append(train_loss)\n",
        "  test_losses.append(test_loss)\n",
        "\n",
        "  print('Epoch: {}  train_loss={:.4f}, test_loss={:.4f}, test_err={:.2f}%'.format(epoch+1, train_loss, test_loss, test_err*100))"
      ],
      "metadata": {
        "id": "Ok7jE-b8mili",
        "colab": {
          "base_uri": "https://localhost:8080/",
          "height": 1000
        },
        "outputId": "e7f69f5c-f5a1-4723-ff49-b554e9efcdac"
      },
      "execution_count": null,
      "outputs": [
        {
          "output_type": "stream",
          "name": "stdout",
          "text": [
            "Downloading http://yann.lecun.com/exdb/mnist/train-images-idx3-ubyte.gz\n",
            "Failed to download (trying next):\n",
            "<urlopen error [Errno 110] Connection timed out>\n",
            "\n",
            "Downloading https://ossci-datasets.s3.amazonaws.com/mnist/train-images-idx3-ubyte.gz\n",
            "Downloading https://ossci-datasets.s3.amazonaws.com/mnist/train-images-idx3-ubyte.gz to ./data/MNIST/raw/train-images-idx3-ubyte.gz\n"
          ]
        },
        {
          "output_type": "stream",
          "name": "stderr",
          "text": [
            "100%|██████████| 9.91M/9.91M [00:00<00:00, 16.1MB/s]\n"
          ]
        },
        {
          "output_type": "stream",
          "name": "stdout",
          "text": [
            "Extracting ./data/MNIST/raw/train-images-idx3-ubyte.gz to ./data/MNIST/raw\n",
            "\n",
            "Downloading http://yann.lecun.com/exdb/mnist/train-labels-idx1-ubyte.gz\n",
            "Failed to download (trying next):\n",
            "<urlopen error [Errno 110] Connection timed out>\n",
            "\n",
            "Downloading https://ossci-datasets.s3.amazonaws.com/mnist/train-labels-idx1-ubyte.gz\n",
            "Downloading https://ossci-datasets.s3.amazonaws.com/mnist/train-labels-idx1-ubyte.gz to ./data/MNIST/raw/train-labels-idx1-ubyte.gz\n"
          ]
        },
        {
          "output_type": "stream",
          "name": "stderr",
          "text": [
            "100%|██████████| 28.9k/28.9k [00:00<00:00, 480kB/s]\n"
          ]
        },
        {
          "output_type": "stream",
          "name": "stdout",
          "text": [
            "Extracting ./data/MNIST/raw/train-labels-idx1-ubyte.gz to ./data/MNIST/raw\n",
            "\n",
            "Downloading http://yann.lecun.com/exdb/mnist/t10k-images-idx3-ubyte.gz\n",
            "Failed to download (trying next):\n",
            "<urlopen error [Errno 110] Connection timed out>\n",
            "\n",
            "Downloading https://ossci-datasets.s3.amazonaws.com/mnist/t10k-images-idx3-ubyte.gz\n",
            "Downloading https://ossci-datasets.s3.amazonaws.com/mnist/t10k-images-idx3-ubyte.gz to ./data/MNIST/raw/t10k-images-idx3-ubyte.gz\n"
          ]
        },
        {
          "output_type": "stream",
          "name": "stderr",
          "text": [
            "100%|██████████| 1.65M/1.65M [00:00<00:00, 4.47MB/s]\n"
          ]
        },
        {
          "output_type": "stream",
          "name": "stdout",
          "text": [
            "Extracting ./data/MNIST/raw/t10k-images-idx3-ubyte.gz to ./data/MNIST/raw\n",
            "\n",
            "Downloading http://yann.lecun.com/exdb/mnist/t10k-labels-idx1-ubyte.gz\n",
            "Failed to download (trying next):\n",
            "<urlopen error [Errno 110] Connection timed out>\n",
            "\n",
            "Downloading https://ossci-datasets.s3.amazonaws.com/mnist/t10k-labels-idx1-ubyte.gz\n",
            "Downloading https://ossci-datasets.s3.amazonaws.com/mnist/t10k-labels-idx1-ubyte.gz to ./data/MNIST/raw/t10k-labels-idx1-ubyte.gz\n"
          ]
        },
        {
          "output_type": "stream",
          "name": "stderr",
          "text": [
            "100%|██████████| 4.54k/4.54k [00:00<00:00, 4.42MB/s]\n"
          ]
        },
        {
          "output_type": "stream",
          "name": "stdout",
          "text": [
            "Extracting ./data/MNIST/raw/t10k-labels-idx1-ubyte.gz to ./data/MNIST/raw\n",
            "\n"
          ]
        },
        {
          "output_type": "error",
          "ename": "RuntimeError",
          "evalue": "Expected all tensors to be on the same device, but found at least two devices, cuda:0 and cpu! (when checking argument for argument mat1 in method wrapper_CUDA_addmm)",
          "traceback": [
            "\u001b[0;31m---------------------------------------------------------------------------\u001b[0m",
            "\u001b[0;31mRuntimeError\u001b[0m                              Traceback (most recent call last)",
            "\u001b[0;32m<ipython-input-2-62721d184e65>\u001b[0m in \u001b[0;36m<cell line: 0>\u001b[0;34m()\u001b[0m\n\u001b[1;32m     71\u001b[0m \u001b[0mtest_losses\u001b[0m\u001b[0;34m=\u001b[0m\u001b[0;34m[\u001b[0m\u001b[0;34m]\u001b[0m\u001b[0;34m\u001b[0m\u001b[0;34m\u001b[0m\u001b[0m\n\u001b[1;32m     72\u001b[0m \u001b[0;32mfor\u001b[0m \u001b[0mepoch\u001b[0m \u001b[0;32min\u001b[0m \u001b[0mrange\u001b[0m\u001b[0;34m(\u001b[0m\u001b[0mepochs\u001b[0m\u001b[0;34m)\u001b[0m\u001b[0;34m:\u001b[0m\u001b[0;34m\u001b[0m\u001b[0;34m\u001b[0m\u001b[0m\n\u001b[0;32m---> 73\u001b[0;31m   \u001b[0mtrain_loss\u001b[0m \u001b[0;34m=\u001b[0m \u001b[0mtrain\u001b[0m\u001b[0;34m(\u001b[0m\u001b[0mtrain_loader\u001b[0m\u001b[0;34m,\u001b[0m \u001b[0mmodel\u001b[0m\u001b[0;34m,\u001b[0m \u001b[0mloss\u001b[0m\u001b[0;34m,\u001b[0m \u001b[0moptimizer\u001b[0m\u001b[0;34m)\u001b[0m\u001b[0;34m\u001b[0m\u001b[0;34m\u001b[0m\u001b[0m\n\u001b[0m\u001b[1;32m     74\u001b[0m   \u001b[0mtest_loss\u001b[0m\u001b[0;34m,\u001b[0m \u001b[0mtest_err\u001b[0m \u001b[0;34m=\u001b[0m \u001b[0mtest\u001b[0m\u001b[0;34m(\u001b[0m\u001b[0mtest_loader\u001b[0m\u001b[0;34m,\u001b[0m \u001b[0mmodel\u001b[0m\u001b[0;34m,\u001b[0m \u001b[0mloss\u001b[0m\u001b[0;34m)\u001b[0m\u001b[0;34m\u001b[0m\u001b[0;34m\u001b[0m\u001b[0m\n\u001b[1;32m     75\u001b[0m   \u001b[0mtrain_losses\u001b[0m\u001b[0;34m.\u001b[0m\u001b[0mappend\u001b[0m\u001b[0;34m(\u001b[0m\u001b[0mtrain_loss\u001b[0m\u001b[0;34m)\u001b[0m\u001b[0;34m\u001b[0m\u001b[0;34m\u001b[0m\u001b[0m\n",
            "\u001b[0;32m<ipython-input-2-62721d184e65>\u001b[0m in \u001b[0;36mtrain\u001b[0;34m(train_loader, model, loss, optimizer)\u001b[0m\n\u001b[1;32m     46\u001b[0m   \u001b[0mmodel\u001b[0m\u001b[0;34m.\u001b[0m\u001b[0mtrain\u001b[0m\u001b[0;34m(\u001b[0m\u001b[0;34m)\u001b[0m\u001b[0;34m\u001b[0m\u001b[0;34m\u001b[0m\u001b[0m\n\u001b[1;32m     47\u001b[0m   \u001b[0;32mfor\u001b[0m \u001b[0mimages\u001b[0m\u001b[0;34m,\u001b[0m\u001b[0mlabels\u001b[0m \u001b[0;32min\u001b[0m \u001b[0mtrain_loader\u001b[0m\u001b[0;34m:\u001b[0m\u001b[0;34m\u001b[0m\u001b[0;34m\u001b[0m\u001b[0m\n\u001b[0;32m---> 48\u001b[0;31m     \u001b[0moutputs\u001b[0m \u001b[0;34m=\u001b[0m \u001b[0mmodel\u001b[0m\u001b[0;34m(\u001b[0m\u001b[0mimages\u001b[0m\u001b[0;34m)\u001b[0m\u001b[0;34m\u001b[0m\u001b[0;34m\u001b[0m\u001b[0m\n\u001b[0m\u001b[1;32m     49\u001b[0m     \u001b[0ml\u001b[0m \u001b[0;34m=\u001b[0m \u001b[0mloss\u001b[0m\u001b[0;34m(\u001b[0m\u001b[0moutputs\u001b[0m\u001b[0;34m,\u001b[0m \u001b[0mlabels\u001b[0m\u001b[0;34m)\u001b[0m\u001b[0;34m\u001b[0m\u001b[0;34m\u001b[0m\u001b[0m\n\u001b[1;32m     50\u001b[0m     \u001b[0ml\u001b[0m\u001b[0;34m.\u001b[0m\u001b[0mbackward\u001b[0m\u001b[0;34m(\u001b[0m\u001b[0;34m)\u001b[0m\u001b[0;34m\u001b[0m\u001b[0;34m\u001b[0m\u001b[0m\n",
            "\u001b[0;32m/usr/local/lib/python3.11/dist-packages/torch/nn/modules/module.py\u001b[0m in \u001b[0;36m_wrapped_call_impl\u001b[0;34m(self, *args, **kwargs)\u001b[0m\n\u001b[1;32m   1734\u001b[0m             \u001b[0;32mreturn\u001b[0m \u001b[0mself\u001b[0m\u001b[0;34m.\u001b[0m\u001b[0m_compiled_call_impl\u001b[0m\u001b[0;34m(\u001b[0m\u001b[0;34m*\u001b[0m\u001b[0margs\u001b[0m\u001b[0;34m,\u001b[0m \u001b[0;34m**\u001b[0m\u001b[0mkwargs\u001b[0m\u001b[0;34m)\u001b[0m  \u001b[0;31m# type: ignore[misc]\u001b[0m\u001b[0;34m\u001b[0m\u001b[0;34m\u001b[0m\u001b[0m\n\u001b[1;32m   1735\u001b[0m         \u001b[0;32melse\u001b[0m\u001b[0;34m:\u001b[0m\u001b[0;34m\u001b[0m\u001b[0;34m\u001b[0m\u001b[0m\n\u001b[0;32m-> 1736\u001b[0;31m             \u001b[0;32mreturn\u001b[0m \u001b[0mself\u001b[0m\u001b[0;34m.\u001b[0m\u001b[0m_call_impl\u001b[0m\u001b[0;34m(\u001b[0m\u001b[0;34m*\u001b[0m\u001b[0margs\u001b[0m\u001b[0;34m,\u001b[0m \u001b[0;34m**\u001b[0m\u001b[0mkwargs\u001b[0m\u001b[0;34m)\u001b[0m\u001b[0;34m\u001b[0m\u001b[0;34m\u001b[0m\u001b[0m\n\u001b[0m\u001b[1;32m   1737\u001b[0m \u001b[0;34m\u001b[0m\u001b[0m\n\u001b[1;32m   1738\u001b[0m     \u001b[0;31m# torchrec tests the code consistency with the following code\u001b[0m\u001b[0;34m\u001b[0m\u001b[0;34m\u001b[0m\u001b[0m\n",
            "\u001b[0;32m/usr/local/lib/python3.11/dist-packages/torch/nn/modules/module.py\u001b[0m in \u001b[0;36m_call_impl\u001b[0;34m(self, *args, **kwargs)\u001b[0m\n\u001b[1;32m   1745\u001b[0m                 \u001b[0;32mor\u001b[0m \u001b[0m_global_backward_pre_hooks\u001b[0m \u001b[0;32mor\u001b[0m \u001b[0m_global_backward_hooks\u001b[0m\u001b[0;34m\u001b[0m\u001b[0;34m\u001b[0m\u001b[0m\n\u001b[1;32m   1746\u001b[0m                 or _global_forward_hooks or _global_forward_pre_hooks):\n\u001b[0;32m-> 1747\u001b[0;31m             \u001b[0;32mreturn\u001b[0m \u001b[0mforward_call\u001b[0m\u001b[0;34m(\u001b[0m\u001b[0;34m*\u001b[0m\u001b[0margs\u001b[0m\u001b[0;34m,\u001b[0m \u001b[0;34m**\u001b[0m\u001b[0mkwargs\u001b[0m\u001b[0;34m)\u001b[0m\u001b[0;34m\u001b[0m\u001b[0;34m\u001b[0m\u001b[0m\n\u001b[0m\u001b[1;32m   1748\u001b[0m \u001b[0;34m\u001b[0m\u001b[0m\n\u001b[1;32m   1749\u001b[0m         \u001b[0mresult\u001b[0m \u001b[0;34m=\u001b[0m \u001b[0;32mNone\u001b[0m\u001b[0;34m\u001b[0m\u001b[0;34m\u001b[0m\u001b[0m\n",
            "\u001b[0;32m<ipython-input-2-62721d184e65>\u001b[0m in \u001b[0;36mforward\u001b[0;34m(self, x)\u001b[0m\n\u001b[1;32m      8\u001b[0m \u001b[0;34m\u001b[0m\u001b[0m\n\u001b[1;32m      9\u001b[0m   \u001b[0;32mdef\u001b[0m \u001b[0mforward\u001b[0m\u001b[0;34m(\u001b[0m\u001b[0mself\u001b[0m\u001b[0;34m,\u001b[0m\u001b[0mx\u001b[0m\u001b[0;34m)\u001b[0m\u001b[0;34m:\u001b[0m\u001b[0;34m\u001b[0m\u001b[0;34m\u001b[0m\u001b[0m\n\u001b[0;32m---> 10\u001b[0;31m     \u001b[0mout\u001b[0m \u001b[0;34m=\u001b[0m \u001b[0mself\u001b[0m\u001b[0;34m.\u001b[0m\u001b[0mfc1\u001b[0m\u001b[0;34m(\u001b[0m\u001b[0mx\u001b[0m\u001b[0;34m)\u001b[0m\u001b[0;34m\u001b[0m\u001b[0;34m\u001b[0m\u001b[0m\n\u001b[0m\u001b[1;32m     11\u001b[0m     \u001b[0mout\u001b[0m \u001b[0;34m=\u001b[0m \u001b[0mself\u001b[0m\u001b[0;34m.\u001b[0m\u001b[0mrelu\u001b[0m\u001b[0;34m(\u001b[0m\u001b[0mout\u001b[0m\u001b[0;34m)\u001b[0m\u001b[0;34m\u001b[0m\u001b[0;34m\u001b[0m\u001b[0m\n\u001b[1;32m     12\u001b[0m     \u001b[0mout\u001b[0m \u001b[0;34m=\u001b[0m \u001b[0mself\u001b[0m\u001b[0;34m.\u001b[0m\u001b[0mfc2\u001b[0m\u001b[0;34m(\u001b[0m\u001b[0mout\u001b[0m\u001b[0;34m)\u001b[0m\u001b[0;34m\u001b[0m\u001b[0;34m\u001b[0m\u001b[0m\n",
            "\u001b[0;32m/usr/local/lib/python3.11/dist-packages/torch/nn/modules/module.py\u001b[0m in \u001b[0;36m_wrapped_call_impl\u001b[0;34m(self, *args, **kwargs)\u001b[0m\n\u001b[1;32m   1734\u001b[0m             \u001b[0;32mreturn\u001b[0m \u001b[0mself\u001b[0m\u001b[0;34m.\u001b[0m\u001b[0m_compiled_call_impl\u001b[0m\u001b[0;34m(\u001b[0m\u001b[0;34m*\u001b[0m\u001b[0margs\u001b[0m\u001b[0;34m,\u001b[0m \u001b[0;34m**\u001b[0m\u001b[0mkwargs\u001b[0m\u001b[0;34m)\u001b[0m  \u001b[0;31m# type: ignore[misc]\u001b[0m\u001b[0;34m\u001b[0m\u001b[0;34m\u001b[0m\u001b[0m\n\u001b[1;32m   1735\u001b[0m         \u001b[0;32melse\u001b[0m\u001b[0;34m:\u001b[0m\u001b[0;34m\u001b[0m\u001b[0;34m\u001b[0m\u001b[0m\n\u001b[0;32m-> 1736\u001b[0;31m             \u001b[0;32mreturn\u001b[0m \u001b[0mself\u001b[0m\u001b[0;34m.\u001b[0m\u001b[0m_call_impl\u001b[0m\u001b[0;34m(\u001b[0m\u001b[0;34m*\u001b[0m\u001b[0margs\u001b[0m\u001b[0;34m,\u001b[0m \u001b[0;34m**\u001b[0m\u001b[0mkwargs\u001b[0m\u001b[0;34m)\u001b[0m\u001b[0;34m\u001b[0m\u001b[0;34m\u001b[0m\u001b[0m\n\u001b[0m\u001b[1;32m   1737\u001b[0m \u001b[0;34m\u001b[0m\u001b[0m\n\u001b[1;32m   1738\u001b[0m     \u001b[0;31m# torchrec tests the code consistency with the following code\u001b[0m\u001b[0;34m\u001b[0m\u001b[0;34m\u001b[0m\u001b[0m\n",
            "\u001b[0;32m/usr/local/lib/python3.11/dist-packages/torch/nn/modules/module.py\u001b[0m in \u001b[0;36m_call_impl\u001b[0;34m(self, *args, **kwargs)\u001b[0m\n\u001b[1;32m   1745\u001b[0m                 \u001b[0;32mor\u001b[0m \u001b[0m_global_backward_pre_hooks\u001b[0m \u001b[0;32mor\u001b[0m \u001b[0m_global_backward_hooks\u001b[0m\u001b[0;34m\u001b[0m\u001b[0;34m\u001b[0m\u001b[0m\n\u001b[1;32m   1746\u001b[0m                 or _global_forward_hooks or _global_forward_pre_hooks):\n\u001b[0;32m-> 1747\u001b[0;31m             \u001b[0;32mreturn\u001b[0m \u001b[0mforward_call\u001b[0m\u001b[0;34m(\u001b[0m\u001b[0;34m*\u001b[0m\u001b[0margs\u001b[0m\u001b[0;34m,\u001b[0m \u001b[0;34m**\u001b[0m\u001b[0mkwargs\u001b[0m\u001b[0;34m)\u001b[0m\u001b[0;34m\u001b[0m\u001b[0;34m\u001b[0m\u001b[0m\n\u001b[0m\u001b[1;32m   1748\u001b[0m \u001b[0;34m\u001b[0m\u001b[0m\n\u001b[1;32m   1749\u001b[0m         \u001b[0mresult\u001b[0m \u001b[0;34m=\u001b[0m \u001b[0;32mNone\u001b[0m\u001b[0;34m\u001b[0m\u001b[0;34m\u001b[0m\u001b[0m\n",
            "\u001b[0;32m/usr/local/lib/python3.11/dist-packages/torch/nn/modules/linear.py\u001b[0m in \u001b[0;36mforward\u001b[0;34m(self, input)\u001b[0m\n\u001b[1;32m    123\u001b[0m \u001b[0;34m\u001b[0m\u001b[0m\n\u001b[1;32m    124\u001b[0m     \u001b[0;32mdef\u001b[0m \u001b[0mforward\u001b[0m\u001b[0;34m(\u001b[0m\u001b[0mself\u001b[0m\u001b[0;34m,\u001b[0m \u001b[0minput\u001b[0m\u001b[0;34m:\u001b[0m \u001b[0mTensor\u001b[0m\u001b[0;34m)\u001b[0m \u001b[0;34m->\u001b[0m \u001b[0mTensor\u001b[0m\u001b[0;34m:\u001b[0m\u001b[0;34m\u001b[0m\u001b[0;34m\u001b[0m\u001b[0m\n\u001b[0;32m--> 125\u001b[0;31m         \u001b[0;32mreturn\u001b[0m \u001b[0mF\u001b[0m\u001b[0;34m.\u001b[0m\u001b[0mlinear\u001b[0m\u001b[0;34m(\u001b[0m\u001b[0minput\u001b[0m\u001b[0;34m,\u001b[0m \u001b[0mself\u001b[0m\u001b[0;34m.\u001b[0m\u001b[0mweight\u001b[0m\u001b[0;34m,\u001b[0m \u001b[0mself\u001b[0m\u001b[0;34m.\u001b[0m\u001b[0mbias\u001b[0m\u001b[0;34m)\u001b[0m\u001b[0;34m\u001b[0m\u001b[0;34m\u001b[0m\u001b[0m\n\u001b[0m\u001b[1;32m    126\u001b[0m \u001b[0;34m\u001b[0m\u001b[0m\n\u001b[1;32m    127\u001b[0m     \u001b[0;32mdef\u001b[0m \u001b[0mextra_repr\u001b[0m\u001b[0;34m(\u001b[0m\u001b[0mself\u001b[0m\u001b[0;34m)\u001b[0m \u001b[0;34m->\u001b[0m \u001b[0mstr\u001b[0m\u001b[0;34m:\u001b[0m\u001b[0;34m\u001b[0m\u001b[0;34m\u001b[0m\u001b[0m\n",
            "\u001b[0;31mRuntimeError\u001b[0m: Expected all tensors to be on the same device, but found at least two devices, cuda:0 and cpu! (when checking argument for argument mat1 in method wrapper_CUDA_addmm)"
          ]
        }
      ]
    },
    {
      "cell_type": "markdown",
      "source": [
        "The code has several bugs in this code.\n",
        "\n",
        "**Modify the code above** to fix all these bugs. Do the minimum amount of modifications needed to make the model work. Do not rewrite everything from scratch."
      ],
      "metadata": {
        "id": "4ZHiznWaTpSp"
      }
    },
    {
      "cell_type": "code",
      "source": [
        "# Set device (GPU if available, otherwise CPU)\n",
        "device = torch.device(\"cuda:0\" if torch.cuda.is_available() else \"cpu\")\n",
        "\n",
        "# Neural Network Module\n",
        "class Net(nn.Module):\n",
        "  def __init__(self, input_size, hidden_size, num_classes):\n",
        "    super(Net,self).__init__()\n",
        "    self.fc1 = nn.Linear(input_size, hidden_size)\n",
        "    self.relu = nn.ReLU()\n",
        "    self.fc2 = nn.Linear(hidden_size, num_classes)\n",
        "\n",
        "  def forward(self,x):\n",
        "    out = self.fc1(x)\n",
        "    out = self.relu(out)\n",
        "    out = self.fc2(out)\n",
        "    return out\n",
        "\n",
        "# Hyperparameters\n",
        "batch_size=128\n",
        "epochs=20\n",
        "lr=0.005\n",
        "input_size = 784\n",
        "hidden_size = 500\n",
        "num_classes = 10\n",
        "\n",
        "# Model initalization\n",
        "model = Net(input_size, hidden_size, num_classes)\n",
        "model = model.to(device)\n",
        "loss = nn.CrossEntropyLoss()\n",
        "optimizer = torch.optim.Adam(model.parameters(), lr=lr)\n",
        "\n",
        "# Datasets\n",
        "train_data = datasets.MNIST(root = './data', train = True,\n",
        "                        transform = transforms.ToTensor(), download = True)\n",
        "\n",
        "test_data = datasets.MNIST(root = './data', train = False,\n",
        "                       transform = transforms.ToTensor())\n",
        "# Data loaders\n",
        "train_loader = torch.utils.data.DataLoader(dataset = train_data,\n",
        "                                             batch_size = batch_size,\n",
        "                                             shuffle = True)\n",
        "\n",
        "test_loader = torch.utils.data.DataLoader(dataset = test_data,\n",
        "                                      batch_size = batch_size,\n",
        "                                      shuffle = False)\n",
        "\n",
        "# Training over all batches\n",
        "def train(train_loader, model, loss, optimizer):\n",
        "  losses=[]\n",
        "  model.train()\n",
        "  for images,labels in train_loader: # 1.data load\n",
        "    images = images.reshape(images.size(0),-1)\n",
        "    images = images.to(device)\n",
        "    labels = labels.to(device)\n",
        "    outputs = model(images) # 2.train\n",
        "    l = loss(outputs, labels) # 3.loss\n",
        "\n",
        "    optimizer.zero_grad()\n",
        "    l.backward() # 4.optimize\n",
        "    optimizer.step() # 5.update the gradiant\n",
        "    losses.append(l)\n",
        "  return torch.tensor(losses).mean()\n",
        "\n",
        "# Test over all batches\n",
        "def test(test_loader, model, loss):\n",
        "  losses=[]\n",
        "  err=0\n",
        "  model.eval()\n",
        "  for images,labels in test_loader:\n",
        "    images = images.reshape(images.size(0),-1)\n",
        "    images = images.to(device)\n",
        "    labels = labels.to(device)\n",
        "    outputs = model(images)\n",
        "    l = loss(outputs, labels)\n",
        "    losses.append(l)\n",
        "\n",
        "    predictions = torch.argmax(F.softmax(outputs, dim=1), dim=1)\n",
        "    err = err + (predictions!=labels).sum()\n",
        "  return torch.tensor(losses).mean(), err/len(test_loader.dataset)\n",
        "\n",
        "# Training loop\n",
        "train_losses=[]\n",
        "test_losses=[]\n",
        "for epoch in range(epochs):\n",
        "  train_loss = train(train_loader, model, loss, optimizer)\n",
        "  test_loss, test_err = test(test_loader, model, loss)\n",
        "  train_losses.append(train_loss)\n",
        "  test_losses.append(test_loss)\n",
        "\n",
        "  print('Epoch: {}  train_loss={:.4f}, test_loss={:.4f}, test_err={:.2f}%'.format(epoch+1, train_loss, test_loss, test_err*100))"
      ],
      "metadata": {
        "id": "tJAVuIK1UY6a",
        "colab": {
          "base_uri": "https://localhost:8080/"
        },
        "outputId": "d505dd6e-1b33-4142-f279-9190b444c705"
      },
      "execution_count": null,
      "outputs": [
        {
          "output_type": "stream",
          "name": "stdout",
          "text": [
            "Epoch: 1  train_loss=0.2064, test_loss=0.1023, test_err=3.33%\n",
            "Epoch: 2  train_loss=0.0837, test_loss=0.0976, test_err=2.95%\n",
            "Epoch: 3  train_loss=0.0589, test_loss=0.1092, test_err=3.15%\n",
            "Epoch: 4  train_loss=0.0484, test_loss=0.0797, test_err=2.21%\n",
            "Epoch: 5  train_loss=0.0414, test_loss=0.1012, test_err=2.57%\n",
            "Epoch: 6  train_loss=0.0321, test_loss=0.0935, test_err=2.52%\n",
            "Epoch: 7  train_loss=0.0252, test_loss=0.0988, test_err=2.21%\n",
            "Epoch: 8  train_loss=0.0308, test_loss=0.1197, test_err=2.57%\n",
            "Epoch: 9  train_loss=0.0273, test_loss=0.1448, test_err=2.69%\n",
            "Epoch: 10  train_loss=0.0277, test_loss=0.1276, test_err=2.36%\n",
            "Epoch: 11  train_loss=0.0231, test_loss=0.1206, test_err=2.17%\n",
            "Epoch: 12  train_loss=0.0214, test_loss=0.1399, test_err=2.48%\n",
            "Epoch: 13  train_loss=0.0211, test_loss=0.1537, test_err=2.74%\n",
            "Epoch: 14  train_loss=0.0232, test_loss=0.1517, test_err=2.25%\n",
            "Epoch: 15  train_loss=0.0164, test_loss=0.1507, test_err=2.45%\n",
            "Epoch: 16  train_loss=0.0242, test_loss=0.1430, test_err=1.96%\n",
            "Epoch: 17  train_loss=0.0157, test_loss=0.1579, test_err=2.12%\n",
            "Epoch: 18  train_loss=0.0164, test_loss=0.1934, test_err=2.41%\n",
            "Epoch: 19  train_loss=0.0182, test_loss=0.1683, test_err=2.00%\n",
            "Epoch: 20  train_loss=0.0156, test_loss=0.1863, test_err=2.26%\n"
          ]
        }
      ]
    },
    {
      "cell_type": "markdown",
      "source": [
        "If everything is fine, you should obtain something like this:\n",
        "\n",
        "```\n",
        "Epoch: 1  train_loss=0.2042, test_loss=0.0968, test_err=3.11%\n",
        "Epoch: 2  train_loss=0.0876, test_loss=0.0816, test_err=2.64%\n",
        "Epoch: 3  train_loss=0.0589, test_loss=0.0827, test_err=2.42%\n",
        "Epoch: 4  train_loss=0.0464, test_loss=0.1234, test_err=3.35%\n",
        "Epoch: 5  train_loss=0.0413, test_loss=0.0950, test_err=2.49%\n",
        "Epoch: 6  train_loss=0.0370, test_loss=0.0904, test_err=2.29%\n",
        "Epoch: 7  train_loss=0.0282, test_loss=0.1006, test_err=2.24%\n",
        "Epoch: 8  train_loss=0.0286, test_loss=0.1177, test_err=2.49%\n",
        "Epoch: 9  train_loss=0.0269, test_loss=0.1185, test_err=2.20%\n",
        "Epoch: 10  train_loss=0.0244, test_loss=0.1198, test_err=2.16%\n",
        "Epoch: 11  train_loss=0.0248, test_loss=0.1093, test_err=1.97%\n",
        "Epoch: 12  train_loss=0.0202, test_loss=0.1360, test_err=2.19%\n",
        "Epoch: 13  train_loss=0.0249, test_loss=0.1241, test_err=2.07%\n",
        "Epoch: 14  train_loss=0.0210, test_loss=0.1535, test_err=2.36%\n",
        "Epoch: 15  train_loss=0.0227, test_loss=0.1486, test_err=2.28%\n",
        "Epoch: 16  train_loss=0.0181, test_loss=0.1562, test_err=2.27%\n",
        "Epoch: 17  train_loss=0.0190, test_loss=0.1517, test_err=2.13%\n",
        "Epoch: 18  train_loss=0.0203, test_loss=0.1653, test_err=2.12%\n",
        "Epoch: 19  train_loss=0.0185, test_loss=0.1533, test_err=2.10%\n",
        "Epoch: 20  train_loss=0.0167, test_loss=0.1902, test_err=2.23%\n",
        "```\n",
        "\n"
      ],
      "metadata": {
        "id": "eIchDVL2WPEO"
      }
    },
    {
      "cell_type": "markdown",
      "source": [
        "The classification error should be around 2% (98% Accuracy)."
      ],
      "metadata": {
        "id": "v0J2s0NYW1kZ"
      }
    },
    {
      "cell_type": "markdown",
      "source": [
        "**Fill up the following table** with the bugs you found. Describe briefly how did you fix them.\n"
      ],
      "metadata": {
        "id": "fVgTzJySXVAn"
      }
    },
    {
      "cell_type": "markdown",
      "source": [
        "| Bug   |      How I fix it\n",
        "|----------|:-------------:|\n",
        "| Device Issue |  Model,input,outputs all should be in same device; created a device at the top and changed it for all |\n",
        "| Dimensionality mismatched issue |  check the dimension for input image and the required for fully connected layer and reshape the images accordingly |\n",
        "| Resetting the previous gradiant to zero |  use optimazer.zero_grad() before backpropagation |"
      ],
      "metadata": {
        "id": "AVi0MB0LYDrL"
      }
    },
    {
      "cell_type": "markdown",
      "source": [
        "## Exercise 2 - Model Improvements\n",
        "\n",
        "The simple model of the previous exercise already has a good performance.\n",
        "However, we can do it better on MNIST. For instance, you might have noticed that the model (even a small model like the one we used) tends to overfit quite quickly. In the following, we will progressively improve the model.\n",
        "\n",
        "## Exercise 2.1 - Adding Batch Normalization\n",
        "A regularization technique that normally helps is called [batch normalization](https://en.wikipedia.org/wiki/Batch_normalization). It essentially normalizes the mean and the variance of the hidden activations over the batch axis.\n",
        "\n",
        "**Modify the code above** to add batch normalization. Use [torch.nn.BatchNorm1d](https://pytorch.org/docs/stable/generated/torch.nn.BatchNorm1d.html) and apply it right after the first linear transformation.\n",
        "\n",
        "\n",
        "\n"
      ],
      "metadata": {
        "id": "R8A6m2G6bX5-"
      }
    },
    {
      "cell_type": "markdown",
      "source": [
        "![Debug_tutorial.drawio (1).png](data:image/png;base64,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)"
      ],
      "metadata": {
        "id": "kvJZzp59LJuy"
      }
    },
    {
      "cell_type": "code",
      "source": [
        "# Set device (GPU if available, otherwise CPU)\n",
        "device = torch.device(\"cuda:0\" if torch.cuda.is_available() else \"cpu\")\n",
        "\n",
        "# Neural Network Module\n",
        "class Net(nn.Module):\n",
        "  def __init__(self, input_size, hidden_size, num_classes):\n",
        "    super(Net,self).__init__()\n",
        "    self.fc1 = nn.Linear(input_size, hidden_size)\n",
        "    self.bn1 = nn.BatchNorm1d(hidden_size)\n",
        "    self.relu = nn.ReLU()\n",
        "    self.fc2 = nn.Linear(hidden_size, num_classes)\n",
        "\n",
        "  def forward(self,x):\n",
        "    out = self.fc1(x)\n",
        "    out = self.bn1(out)\n",
        "    out = self.relu(out)\n",
        "    out = self.fc2(out)\n",
        "    return out\n",
        "\n",
        "# Hyperparameters\n",
        "batch_size=128\n",
        "epochs=20\n",
        "lr=0.005\n",
        "input_size = 784\n",
        "hidden_size = 500\n",
        "num_classes = 10\n",
        "\n",
        "# Model initalization\n",
        "model = Net(input_size, hidden_size, num_classes)\n",
        "model = model.to(device)\n",
        "loss = nn.CrossEntropyLoss()\n",
        "optimizer = torch.optim.Adam(model.parameters(), lr=lr)\n",
        "\n",
        "# Datasets\n",
        "train_data = datasets.MNIST(root = './data', train = True,\n",
        "                        transform = transforms.ToTensor(), download = True)\n",
        "\n",
        "test_data = datasets.MNIST(root = './data', train = False,\n",
        "                       transform = transforms.ToTensor())\n",
        "# Data loaders\n",
        "train_loader = torch.utils.data.DataLoader(dataset = train_data,\n",
        "                                             batch_size = batch_size,\n",
        "                                             shuffle = True)\n",
        "\n",
        "test_loader = torch.utils.data.DataLoader(dataset = test_data,\n",
        "                                      batch_size = batch_size,\n",
        "                                      shuffle = False)\n",
        "\n",
        "# Training over all batches\n",
        "def train(train_loader, model, loss, optimizer):\n",
        "  losses=[]\n",
        "  model.train()\n",
        "  for images,labels in train_loader: # 1.data load\n",
        "    images = images.reshape(images.size(0),-1)\n",
        "    images = images.to(device)\n",
        "    labels = labels.to(device)\n",
        "    outputs = model(images) # 2.train\n",
        "    l = loss(outputs, labels) # 3.loss\n",
        "\n",
        "    optimizer.zero_grad()\n",
        "    l.backward() # 4.optimize\n",
        "    optimizer.step() # 5.update the gradiant\n",
        "    losses.append(l)\n",
        "  return torch.tensor(losses).mean()\n",
        "\n",
        "# Test over all batches\n",
        "def test(test_loader, model, loss):\n",
        "  losses=[]\n",
        "  err=0\n",
        "  model.eval()\n",
        "  for images,labels in test_loader:\n",
        "    images = images.reshape(images.size(0),-1)\n",
        "    images = images.to(device)\n",
        "    labels = labels.to(device)\n",
        "    outputs = model(images)\n",
        "    l = loss(outputs, labels)\n",
        "    losses.append(l)\n",
        "\n",
        "    predictions = torch.argmax(F.softmax(outputs, dim=1), dim=1)\n",
        "    err = err + (predictions!=labels).sum()\n",
        "  return torch.tensor(losses).mean(), err/len(test_loader.dataset)\n",
        "\n",
        "# Training loop\n",
        "train_losses=[]\n",
        "test_losses=[]\n",
        "for epoch in range(epochs):\n",
        "  train_loss = train(train_loader, model, loss, optimizer)\n",
        "  test_loss, test_err = test(test_loader, model, loss)\n",
        "  train_losses.append(train_loss)\n",
        "  test_losses.append(test_loss)\n",
        "\n",
        "  print('Epoch: {}  train_loss={:.4f}, test_loss={:.4f}, test_err={:.2f}%'.format(epoch+1, train_loss, test_loss, test_err*100))"
      ],
      "metadata": {
        "id": "-W0giOJrdIGN",
        "colab": {
          "base_uri": "https://localhost:8080/"
        },
        "outputId": "d7faf23a-880e-4080-d7e2-a5db2ed85c74"
      },
      "execution_count": null,
      "outputs": [
        {
          "output_type": "stream",
          "name": "stdout",
          "text": [
            "Downloading http://yann.lecun.com/exdb/mnist/train-images-idx3-ubyte.gz\n",
            "Failed to download (trying next):\n",
            "<urlopen error [Errno 110] Connection timed out>\n",
            "\n",
            "Downloading https://ossci-datasets.s3.amazonaws.com/mnist/train-images-idx3-ubyte.gz\n",
            "Downloading https://ossci-datasets.s3.amazonaws.com/mnist/train-images-idx3-ubyte.gz to ./data/MNIST/raw/train-images-idx3-ubyte.gz\n"
          ]
        },
        {
          "output_type": "stream",
          "name": "stderr",
          "text": [
            "100%|██████████| 9.91M/9.91M [00:00<00:00, 22.6MB/s]\n"
          ]
        },
        {
          "output_type": "stream",
          "name": "stdout",
          "text": [
            "Extracting ./data/MNIST/raw/train-images-idx3-ubyte.gz to ./data/MNIST/raw\n",
            "\n",
            "Downloading http://yann.lecun.com/exdb/mnist/train-labels-idx1-ubyte.gz\n",
            "Failed to download (trying next):\n",
            "<urlopen error [Errno 110] Connection timed out>\n",
            "\n",
            "Downloading https://ossci-datasets.s3.amazonaws.com/mnist/train-labels-idx1-ubyte.gz\n",
            "Downloading https://ossci-datasets.s3.amazonaws.com/mnist/train-labels-idx1-ubyte.gz to ./data/MNIST/raw/train-labels-idx1-ubyte.gz\n"
          ]
        },
        {
          "output_type": "stream",
          "name": "stderr",
          "text": [
            "100%|██████████| 28.9k/28.9k [00:00<00:00, 658kB/s]\n"
          ]
        },
        {
          "output_type": "stream",
          "name": "stdout",
          "text": [
            "Extracting ./data/MNIST/raw/train-labels-idx1-ubyte.gz to ./data/MNIST/raw\n",
            "\n",
            "Downloading http://yann.lecun.com/exdb/mnist/t10k-images-idx3-ubyte.gz\n",
            "Failed to download (trying next):\n",
            "<urlopen error [Errno 110] Connection timed out>\n",
            "\n",
            "Downloading https://ossci-datasets.s3.amazonaws.com/mnist/t10k-images-idx3-ubyte.gz\n",
            "Downloading https://ossci-datasets.s3.amazonaws.com/mnist/t10k-images-idx3-ubyte.gz to ./data/MNIST/raw/t10k-images-idx3-ubyte.gz\n"
          ]
        },
        {
          "output_type": "stream",
          "name": "stderr",
          "text": [
            "100%|██████████| 1.65M/1.65M [00:00<00:00, 5.61MB/s]\n"
          ]
        },
        {
          "output_type": "stream",
          "name": "stdout",
          "text": [
            "Extracting ./data/MNIST/raw/t10k-images-idx3-ubyte.gz to ./data/MNIST/raw\n",
            "\n",
            "Downloading http://yann.lecun.com/exdb/mnist/t10k-labels-idx1-ubyte.gz\n",
            "Failed to download (trying next):\n",
            "<urlopen error [Errno 110] Connection timed out>\n",
            "\n",
            "Downloading https://ossci-datasets.s3.amazonaws.com/mnist/t10k-labels-idx1-ubyte.gz\n",
            "Downloading https://ossci-datasets.s3.amazonaws.com/mnist/t10k-labels-idx1-ubyte.gz to ./data/MNIST/raw/t10k-labels-idx1-ubyte.gz\n"
          ]
        },
        {
          "output_type": "stream",
          "name": "stderr",
          "text": [
            "100%|██████████| 4.54k/4.54k [00:00<00:00, 4.47MB/s]"
          ]
        },
        {
          "output_type": "stream",
          "name": "stdout",
          "text": [
            "Extracting ./data/MNIST/raw/t10k-labels-idx1-ubyte.gz to ./data/MNIST/raw\n",
            "\n"
          ]
        },
        {
          "output_type": "stream",
          "name": "stderr",
          "text": [
            "\n"
          ]
        },
        {
          "output_type": "stream",
          "name": "stdout",
          "text": [
            "Epoch: 1  train_loss=0.1814, test_loss=0.1229, test_err=4.09%\n",
            "Epoch: 2  train_loss=0.0817, test_loss=0.0673, test_err=2.11%\n",
            "Epoch: 3  train_loss=0.0525, test_loss=0.0797, test_err=2.46%\n",
            "Epoch: 4  train_loss=0.0383, test_loss=0.0731, test_err=2.26%\n",
            "Epoch: 5  train_loss=0.0285, test_loss=0.0739, test_err=2.12%\n",
            "Epoch: 6  train_loss=0.0233, test_loss=0.0801, test_err=2.26%\n",
            "Epoch: 7  train_loss=0.0225, test_loss=0.0820, test_err=2.01%\n",
            "Epoch: 8  train_loss=0.0207, test_loss=0.0881, test_err=2.13%\n",
            "Epoch: 9  train_loss=0.0150, test_loss=0.0878, test_err=2.23%\n",
            "Epoch: 10  train_loss=0.0170, test_loss=0.0865, test_err=2.18%\n",
            "Epoch: 11  train_loss=0.0137, test_loss=0.0881, test_err=2.10%\n",
            "Epoch: 12  train_loss=0.0120, test_loss=0.0721, test_err=1.66%\n",
            "Epoch: 13  train_loss=0.0123, test_loss=0.0896, test_err=1.94%\n",
            "Epoch: 14  train_loss=0.0119, test_loss=0.0841, test_err=1.99%\n",
            "Epoch: 15  train_loss=0.0136, test_loss=0.0789, test_err=1.86%\n",
            "Epoch: 16  train_loss=0.0081, test_loss=0.0779, test_err=1.81%\n",
            "Epoch: 17  train_loss=0.0104, test_loss=0.0960, test_err=1.96%\n",
            "Epoch: 18  train_loss=0.0098, test_loss=0.0849, test_err=1.84%\n",
            "Epoch: 19  train_loss=0.0077, test_loss=0.0808, test_err=1.82%\n",
            "Epoch: 20  train_loss=0.0082, test_loss=0.0893, test_err=2.06%\n"
          ]
        }
      ]
    },
    {
      "cell_type": "markdown",
      "source": [
        "If everything goes well, you should get something like this:"
      ],
      "metadata": {
        "id": "FdLxMoB77um1"
      }
    },
    {
      "cell_type": "markdown",
      "source": [
        "\n",
        "```\n",
        "Epoch: 1  train_loss=0.1814, test_loss=0.1229, test_err=4.09%\n",
        "Epoch: 2  train_loss=0.0816, test_loss=0.0670, test_err=2.19%\n",
        "Epoch: 3  train_loss=0.0523, test_loss=0.0782, test_err=2.42%\n",
        "Epoch: 4  train_loss=0.0386, test_loss=0.0739, test_err=2.33%\n",
        "Epoch: 5  train_loss=0.0296, test_loss=0.0731, test_err=2.04%\n",
        "Epoch: 6  train_loss=0.0251, test_loss=0.0828, test_err=2.12%\n",
        "Epoch: 7  train_loss=0.0220, test_loss=0.0751, test_err=1.99%\n",
        "Epoch: 8  train_loss=0.0181, test_loss=0.0988, test_err=2.34%\n",
        "Epoch: 9  train_loss=0.0168, test_loss=0.0771, test_err=1.90%\n",
        "Epoch: 10  train_loss=0.0149, test_loss=0.0781, test_err=1.99%\n",
        "Epoch: 11  train_loss=0.0153, test_loss=0.0930, test_err=2.47%\n",
        "Epoch: 12  train_loss=0.0122, test_loss=0.1029, test_err=2.31%\n",
        "Epoch: 13  train_loss=0.0146, test_loss=0.1006, test_err=2.27%\n",
        "Epoch: 14  train_loss=0.0110, test_loss=0.0922, test_err=2.02%\n",
        "Epoch: 15  train_loss=0.0117, test_loss=0.0860, test_err=2.04%\n",
        "Epoch: 16  train_loss=0.0092, test_loss=0.0818, test_err=1.84%\n",
        "Epoch: 17  train_loss=0.0079, test_loss=0.0933, test_err=1.98%\n",
        "Epoch: 18  train_loss=0.0075, test_loss=0.0840, test_err=1.87%\n",
        "Epoch: 19  train_loss=0.0102, test_loss=0.1054, test_err=2.16%\n",
        "Epoch: 20  train_loss=0.0096, test_loss=0.0950, test_err=1.89%\n",
        "```\n",
        "\n"
      ],
      "metadata": {
        "id": "PIbSLZIp71LO"
      }
    },
    {
      "cell_type": "markdown",
      "source": [
        "The best test error is about 1.90%.\n",
        "As you can see, there is a little improvement in the performance when adding batch normalization."
      ],
      "metadata": {
        "id": "-Xj15IRx71dF"
      }
    },
    {
      "cell_type": "markdown",
      "source": [
        "## Exercise 2.2 - Adding Dropout\n",
        "\n",
        "Another popular regularization technique is [dropout](https://towardsdatascience.com/dropout-in-neural-networks-47a162d621d9). It randomly drops neurons to prevent coadaptation.\n",
        "\n",
        "**Modify the code above** to introduce dropout. Use [torch.nn.Dropout](https://pytorch.org/docs/stable/generated/torch.nn.Dropout.html) and apply it right after the ReLU activations. Use a dropout factor of 0.5."
      ],
      "metadata": {
        "id": "sQklz3xN9Jz6"
      }
    },
    {
      "cell_type": "markdown",
      "source": [
        "![Debug_tutorial.drawio (2).png](data:image/png;base64,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)"
      ],
      "metadata": {
        "id": "5mq9ExifLurj"
      }
    },
    {
      "cell_type": "code",
      "source": [
        "# Set device (GPU if available, otherwise CPU)\n",
        "device = torch.device(\"cuda:0\" if torch.cuda.is_available() else \"cpu\")\n",
        "\n",
        "# Neural Network Module\n",
        "class Net(nn.Module):\n",
        "  def __init__(self, input_size, hidden_size, num_classes):\n",
        "    super(Net,self).__init__()\n",
        "    self.fc1 = nn.Linear(input_size, hidden_size)\n",
        "    self.bn1 = nn.BatchNorm1d(hidden_size)\n",
        "    self.relu = nn.ReLU()\n",
        "    self.dropout1 = nn.Dropout(0.5)\n",
        "    self.fc2 = nn.Linear(hidden_size, num_classes)\n",
        "\n",
        "  def forward(self,x):\n",
        "    out = self.fc1(x)\n",
        "    out = self.bn1(out)\n",
        "    out = self.relu(out)\n",
        "    out = self.dropout1(out)\n",
        "    out = self.fc2(out)\n",
        "    return out\n",
        "\n",
        "# Hyperparameters\n",
        "batch_size=128\n",
        "epochs=20\n",
        "lr=0.005\n",
        "input_size = 784\n",
        "hidden_size = 500\n",
        "num_classes = 10\n",
        "\n",
        "# Model initalization\n",
        "model = Net(input_size, hidden_size, num_classes)\n",
        "model = model.to(device)\n",
        "loss = nn.CrossEntropyLoss()\n",
        "optimizer = torch.optim.Adam(model.parameters(), lr=lr)\n",
        "\n",
        "# Datasets\n",
        "train_data = datasets.MNIST(root = './data', train = True,\n",
        "                        transform = transforms.ToTensor(), download = True)\n",
        "\n",
        "test_data = datasets.MNIST(root = './data', train = False,\n",
        "                       transform = transforms.ToTensor())\n",
        "# Data loaders\n",
        "train_loader = torch.utils.data.DataLoader(dataset = train_data,\n",
        "                                             batch_size = batch_size,\n",
        "                                             shuffle = True)\n",
        "\n",
        "test_loader = torch.utils.data.DataLoader(dataset = test_data,\n",
        "                                      batch_size = batch_size,\n",
        "                                      shuffle = False)\n",
        "\n",
        "# Training over all batches\n",
        "def train(train_loader, model, loss, optimizer):\n",
        "  losses=[]\n",
        "  model.train()\n",
        "  for images,labels in train_loader: # 1.data load\n",
        "    images = images.reshape(images.size(0),-1)\n",
        "    images = images.to(device)\n",
        "    labels = labels.to(device)\n",
        "    outputs = model(images) # 2.train\n",
        "    l = loss(outputs, labels) # 3.loss\n",
        "\n",
        "    optimizer.zero_grad()\n",
        "    l.backward() # 4.optimize\n",
        "    optimizer.step() # 5.update the gradiant\n",
        "    losses.append(l)\n",
        "  return torch.tensor(losses).mean()\n",
        "\n",
        "# Test over all batches\n",
        "def test(test_loader, model, loss):\n",
        "  losses=[]\n",
        "  err=0\n",
        "  model.eval()\n",
        "  for images,labels in test_loader:\n",
        "    images = images.reshape(images.size(0),-1)\n",
        "    images = images.to(device)\n",
        "    labels = labels.to(device)\n",
        "    outputs = model(images)\n",
        "    l = loss(outputs, labels)\n",
        "    losses.append(l)\n",
        "\n",
        "    predictions = torch.argmax(F.softmax(outputs, dim=1), dim=1)\n",
        "    err = err + (predictions!=labels).sum()\n",
        "  return torch.tensor(losses).mean(), err/len(test_loader.dataset)\n",
        "\n",
        "# Training loop\n",
        "train_losses=[]\n",
        "test_losses=[]\n",
        "for epoch in range(epochs):\n",
        "  train_loss = train(train_loader, model, loss, optimizer)\n",
        "  test_loss, test_err = test(test_loader, model, loss)\n",
        "  train_losses.append(train_loss)\n",
        "  test_losses.append(test_loss)\n",
        "\n",
        "  print('Epoch: {}  train_loss={:.4f}, test_loss={:.4f}, test_err={:.2f}%'.format(epoch+1, train_loss, test_loss, test_err*100))"
      ],
      "metadata": {
        "id": "vc2vQvULhAdo",
        "colab": {
          "base_uri": "https://localhost:8080/"
        },
        "outputId": "d10a37da-9910-46a2-d1dd-80f1830dd67d"
      },
      "execution_count": null,
      "outputs": [
        {
          "output_type": "stream",
          "name": "stdout",
          "text": [
            "Epoch: 1  train_loss=0.2463, test_loss=0.1250, test_err=3.88%\n",
            "Epoch: 2  train_loss=0.1380, test_loss=0.0893, test_err=2.68%\n",
            "Epoch: 3  train_loss=0.1082, test_loss=0.0709, test_err=2.28%\n",
            "Epoch: 4  train_loss=0.0917, test_loss=0.0661, test_err=2.14%\n",
            "Epoch: 5  train_loss=0.0824, test_loss=0.0638, test_err=2.14%\n",
            "Epoch: 6  train_loss=0.0727, test_loss=0.0631, test_err=1.84%\n",
            "Epoch: 7  train_loss=0.0666, test_loss=0.0650, test_err=1.92%\n",
            "Epoch: 8  train_loss=0.0616, test_loss=0.0612, test_err=1.85%\n",
            "Epoch: 9  train_loss=0.0590, test_loss=0.0581, test_err=1.77%\n",
            "Epoch: 10  train_loss=0.0523, test_loss=0.0613, test_err=1.86%\n",
            "Epoch: 11  train_loss=0.0522, test_loss=0.0615, test_err=1.88%\n",
            "Epoch: 12  train_loss=0.0493, test_loss=0.0605, test_err=1.76%\n",
            "Epoch: 13  train_loss=0.0441, test_loss=0.0642, test_err=1.80%\n",
            "Epoch: 14  train_loss=0.0456, test_loss=0.0585, test_err=1.70%\n",
            "Epoch: 15  train_loss=0.0420, test_loss=0.0605, test_err=1.74%\n",
            "Epoch: 16  train_loss=0.0403, test_loss=0.0611, test_err=1.63%\n",
            "Epoch: 17  train_loss=0.0406, test_loss=0.0639, test_err=1.73%\n",
            "Epoch: 18  train_loss=0.0369, test_loss=0.0674, test_err=1.71%\n",
            "Epoch: 19  train_loss=0.0347, test_loss=0.0645, test_err=1.77%\n",
            "Epoch: 20  train_loss=0.0361, test_loss=0.0593, test_err=1.69%\n"
          ]
        }
      ]
    },
    {
      "cell_type": "markdown",
      "source": [
        "If everything works well, you should see the following output:"
      ],
      "metadata": {
        "id": "XzNILYkv-37_"
      }
    },
    {
      "cell_type": "markdown",
      "source": [
        "\n",
        "\n",
        "```\n",
        "Epoch: 1  train_loss=0.2432, test_loss=0.1191, test_err=3.82%\n",
        "Epoch: 2  train_loss=0.1398, test_loss=0.0780, test_err=2.52%\n",
        "Epoch: 3  train_loss=0.1083, test_loss=0.0789, test_err=2.49%\n",
        "Epoch: 4  train_loss=0.0933, test_loss=0.0722, test_err=2.37%\n",
        "Epoch: 5  train_loss=0.0834, test_loss=0.0639, test_err=2.07%\n",
        "Epoch: 6  train_loss=0.0730, test_loss=0.0657, test_err=2.07%\n",
        "Epoch: 7  train_loss=0.0671, test_loss=0.0618, test_err=1.82%\n",
        "Epoch: 8  train_loss=0.0635, test_loss=0.0642, test_err=2.05%\n",
        "Epoch: 9  train_loss=0.0580, test_loss=0.0572, test_err=1.77%\n",
        "Epoch: 10  train_loss=0.0563, test_loss=0.0593, test_err=1.79%\n",
        "Epoch: 11  train_loss=0.0517, test_loss=0.0604, test_err=1.87%\n",
        "Epoch: 12  train_loss=0.0485, test_loss=0.0568, test_err=1.77%\n",
        "Epoch: 13  train_loss=0.0456, test_loss=0.0621, test_err=1.75%\n",
        "Epoch: 14  train_loss=0.0488, test_loss=0.0536, test_err=1.63%\n",
        "Epoch: 15  train_loss=0.0437, test_loss=0.0572, test_err=1.73%\n",
        "Epoch: 16  train_loss=0.0406, test_loss=0.0593, test_err=1.59%\n",
        "Epoch: 17  train_loss=0.0409, test_loss=0.0571, test_err=1.71%\n",
        "Epoch: 18  train_loss=0.0410, test_loss=0.0564, test_err=1.53%\n",
        "Epoch: 19  train_loss=0.0367, test_loss=0.0626, test_err=1.70%\n",
        "Epoch: 20  train_loss=0.0371, test_loss=0.0608, test_err=1.51%\n",
        "```\n",
        "\n"
      ],
      "metadata": {
        "id": "IeHVdM1m-7pl"
      }
    },
    {
      "cell_type": "markdown",
      "source": [
        "Dropout further improves the performance. Now, the best test error should be around 1.5%."
      ],
      "metadata": {
        "id": "cSOnGzo5-8Am"
      }
    },
    {
      "cell_type": "markdown",
      "source": [
        "## Exercise 2.3 - Add a Convolutional FrontEnd\n",
        "\n",
        "Let's now add to the model above a convolutional block before the fully-connected one.\n",
        "The convolutional block should contain the following sequence of operations (in the specified order):\n",
        "1. 2D convolution with 20 channels and a kernel size of (5,5). Use [torch.nn.Conv2d](https://pytorch.org/docs/stable/generated/torch.nn.Conv2d.html).\n",
        "2. 2D Batch normalization (use [torch.nn.BatchNorm2d](https://pytorch.org/docs/stable/generated/torch.nn.BatchNorm2d.html)).\n",
        "3. 2D Max pooling with a pool size of 2 (use [MaxPool2d](https://pytorch.org/docs/stable/generated/torch.nn.MaxPool2d.html)).\n",
        "4. ReLU activation function.\n",
        "\n",
        "Hint: compute the new input dimensionality of the first linear layer in the initialization method (avoid hard-coding it). Check the documentation of the conv2d and maxpoll2d methods to estimate it. In the forward method, you can use torch.flatten() or .reshape() to get the expected tensor dimensionality in input to the first linear layer."
      ],
      "metadata": {
        "id": "BFVOceSG_XI3"
      }
    },
    {
      "cell_type": "code",
      "source": [
        "# Set device (GPU if available, otherwise CPU)\n",
        "device = torch.device(\"cuda:0\" if torch.cuda.is_available() else \"cpu\")\n",
        "\n",
        "# Neural Network Module\n",
        "class Net(nn.Module):\n",
        "  def __init__(self, input_size, hidden_size, num_classes):\n",
        "    super(Net,self).__init__()\n",
        "\n",
        "    #here the input of the image from MNIST is (128,1,28,28) => (3584,28)\n",
        "\n",
        "    self.conv1 = nn.Conv2d(in_channels=1,out_channels=20,kernel_size=5,stride=1,padding=1)\n",
        "    self.bn2d = nn.BatchNorm2d(num_features=20)\n",
        "    self.maxP2d = nn.MaxPool2d(2)\n",
        "\n",
        "    #after conv1 layer the image becomes (128,20,26,26) => (66560, 26)\n",
        "    #after the max pool layer it becomes (128,20,13,13) => (33280,13)\n",
        "\n",
        "    #but the fc1 takes (128,784)\n",
        "\n",
        "    #so we need to flat change the input size\n",
        "\n",
        "    converted_input_size = 20* 13 *13\n",
        "\n",
        "\n",
        "    self.fc1 = nn.Linear(converted_input_size, hidden_size)\n",
        "    self.bn1 = nn.BatchNorm1d(hidden_size)\n",
        "    self.relu = nn.ReLU()\n",
        "    self.dropout1 = nn.Dropout(0.5)\n",
        "    self.fc2 = nn.Linear(hidden_size, num_classes)\n",
        "\n",
        "  def forward(self,x):\n",
        "\n",
        "    out = self.conv1(x)\n",
        "    out = self.bn2d(out)\n",
        "    out = self.maxP2d(out)\n",
        "    out = self.relu(out)\n",
        "\n",
        "    out = out.reshape(out.size(0), -1)\n",
        "\n",
        "\n",
        "    out = self.fc1(out)\n",
        "    out = self.bn1(out)\n",
        "    out = self.relu(out)\n",
        "    out = self.dropout1(out)\n",
        "    out = self.fc2(out)\n",
        "    return out\n",
        "\n",
        "# Hyperparameters\n",
        "batch_size=128\n",
        "epochs=20\n",
        "lr=0.005\n",
        "input_size = 784\n",
        "hidden_size = 500\n",
        "num_classes = 10\n",
        "\n",
        "# Model initalization\n",
        "model = Net(input_size, hidden_size, num_classes)\n",
        "model = model.to(device)\n",
        "loss = nn.CrossEntropyLoss()\n",
        "optimizer = torch.optim.Adam(model.parameters(), lr=lr)\n",
        "\n",
        "# Datasets\n",
        "train_data = datasets.MNIST(root = './data', train = True,\n",
        "                        transform = transforms.ToTensor(), download = True)\n",
        "\n",
        "test_data = datasets.MNIST(root = './data', train = False,\n",
        "                       transform = transforms.ToTensor())\n",
        "# Data loaders\n",
        "train_loader = torch.utils.data.DataLoader(dataset = train_data,\n",
        "                                             batch_size = batch_size,\n",
        "                                             shuffle = True)\n",
        "\n",
        "test_loader = torch.utils.data.DataLoader(dataset = test_data,\n",
        "                                      batch_size = batch_size,\n",
        "                                      shuffle = False)\n",
        "\n",
        "# Training over all batches\n",
        "def train(train_loader, model, loss, optimizer):\n",
        "  losses=[]\n",
        "  model.train()\n",
        "  for images,labels in train_loader: # 1.data load\n",
        "    # images = images.reshape(images.size(0),-1)\n",
        "    images = images.to(device)\n",
        "    labels = labels.to(device)\n",
        "    outputs = model(images) # 2.train\n",
        "    l = loss(outputs, labels) # 3.loss\n",
        "\n",
        "    optimizer.zero_grad()\n",
        "    l.backward() # 4.optimize\n",
        "    optimizer.step() # 5.update the gradiant\n",
        "    losses.append(l)\n",
        "  return torch.tensor(losses).mean()\n",
        "\n",
        "# Test over all batches\n",
        "def test(test_loader, model, loss):\n",
        "  losses=[]\n",
        "  err=0\n",
        "  model.eval()\n",
        "  for images,labels in test_loader:\n",
        "    # images = images.reshape(images.size(0),-1)\n",
        "    images = images.to(device)\n",
        "    labels = labels.to(device)\n",
        "    outputs = model(images)\n",
        "    l = loss(outputs, labels)\n",
        "    losses.append(l)\n",
        "\n",
        "    predictions = torch.argmax(F.softmax(outputs, dim=1), dim=1)\n",
        "    err = err + (predictions!=labels).sum()\n",
        "  return torch.tensor(losses).mean(), err/len(test_loader.dataset)\n",
        "\n",
        "# Training loop\n",
        "train_losses=[]\n",
        "test_losses=[]\n",
        "for epoch in range(epochs):\n",
        "  train_loss = train(train_loader, model, loss, optimizer)\n",
        "  test_loss, test_err = test(test_loader, model, loss)\n",
        "  train_losses.append(train_loss)\n",
        "  test_losses.append(test_loss)\n",
        "\n",
        "  print('Epoch: {}  train_loss={:.4f}, test_loss={:.4f}, test_err={:.2f}%'.format(epoch+1, train_loss, test_loss, test_err*100))"
      ],
      "metadata": {
        "id": "CGqzF5o-ixgM",
        "colab": {
          "base_uri": "https://localhost:8080/"
        },
        "outputId": "5d18a307-a4a8-4e54-d7be-cb67dc6b8407"
      },
      "execution_count": null,
      "outputs": [
        {
          "output_type": "stream",
          "name": "stdout",
          "text": [
            "Downloading http://yann.lecun.com/exdb/mnist/train-images-idx3-ubyte.gz\n",
            "Failed to download (trying next):\n",
            "<urlopen error [Errno 110] Connection timed out>\n",
            "\n",
            "Downloading https://ossci-datasets.s3.amazonaws.com/mnist/train-images-idx3-ubyte.gz\n",
            "Downloading https://ossci-datasets.s3.amazonaws.com/mnist/train-images-idx3-ubyte.gz to ./data/MNIST/raw/train-images-idx3-ubyte.gz\n"
          ]
        },
        {
          "output_type": "stream",
          "name": "stderr",
          "text": [
            "100%|██████████| 9.91M/9.91M [00:00<00:00, 17.7MB/s]\n"
          ]
        },
        {
          "output_type": "stream",
          "name": "stdout",
          "text": [
            "Extracting ./data/MNIST/raw/train-images-idx3-ubyte.gz to ./data/MNIST/raw\n",
            "\n",
            "Downloading http://yann.lecun.com/exdb/mnist/train-labels-idx1-ubyte.gz\n",
            "Failed to download (trying next):\n",
            "<urlopen error [Errno 110] Connection timed out>\n",
            "\n",
            "Downloading https://ossci-datasets.s3.amazonaws.com/mnist/train-labels-idx1-ubyte.gz\n",
            "Downloading https://ossci-datasets.s3.amazonaws.com/mnist/train-labels-idx1-ubyte.gz to ./data/MNIST/raw/train-labels-idx1-ubyte.gz\n"
          ]
        },
        {
          "output_type": "stream",
          "name": "stderr",
          "text": [
            "100%|██████████| 28.9k/28.9k [00:00<00:00, 486kB/s]\n"
          ]
        },
        {
          "output_type": "stream",
          "name": "stdout",
          "text": [
            "Extracting ./data/MNIST/raw/train-labels-idx1-ubyte.gz to ./data/MNIST/raw\n",
            "\n",
            "Downloading http://yann.lecun.com/exdb/mnist/t10k-images-idx3-ubyte.gz\n",
            "Failed to download (trying next):\n",
            "<urlopen error [Errno 110] Connection timed out>\n",
            "\n",
            "Downloading https://ossci-datasets.s3.amazonaws.com/mnist/t10k-images-idx3-ubyte.gz\n",
            "Downloading https://ossci-datasets.s3.amazonaws.com/mnist/t10k-images-idx3-ubyte.gz to ./data/MNIST/raw/t10k-images-idx3-ubyte.gz\n"
          ]
        },
        {
          "output_type": "stream",
          "name": "stderr",
          "text": [
            "100%|██████████| 1.65M/1.65M [00:00<00:00, 4.46MB/s]\n"
          ]
        },
        {
          "output_type": "stream",
          "name": "stdout",
          "text": [
            "Extracting ./data/MNIST/raw/t10k-images-idx3-ubyte.gz to ./data/MNIST/raw\n",
            "\n",
            "Downloading http://yann.lecun.com/exdb/mnist/t10k-labels-idx1-ubyte.gz\n",
            "Failed to download (trying next):\n",
            "<urlopen error [Errno 110] Connection timed out>\n",
            "\n",
            "Downloading https://ossci-datasets.s3.amazonaws.com/mnist/t10k-labels-idx1-ubyte.gz\n",
            "Downloading https://ossci-datasets.s3.amazonaws.com/mnist/t10k-labels-idx1-ubyte.gz to ./data/MNIST/raw/t10k-labels-idx1-ubyte.gz\n"
          ]
        },
        {
          "output_type": "stream",
          "name": "stderr",
          "text": [
            "100%|██████████| 4.54k/4.54k [00:00<00:00, 3.20MB/s]\n"
          ]
        },
        {
          "output_type": "stream",
          "name": "stdout",
          "text": [
            "Extracting ./data/MNIST/raw/t10k-labels-idx1-ubyte.gz to ./data/MNIST/raw\n",
            "\n",
            "Epoch: 1  train_loss=0.1369, test_loss=0.0512, test_err=1.70%\n",
            "Epoch: 2  train_loss=0.0643, test_loss=0.0462, test_err=1.57%\n",
            "Epoch: 3  train_loss=0.0459, test_loss=0.0347, test_err=1.12%\n",
            "Epoch: 4  train_loss=0.0373, test_loss=0.0371, test_err=1.21%\n",
            "Epoch: 5  train_loss=0.0302, test_loss=0.0398, test_err=1.14%\n",
            "Epoch: 6  train_loss=0.0266, test_loss=0.0357, test_err=1.12%\n",
            "Epoch: 7  train_loss=0.0261, test_loss=0.0385, test_err=1.10%\n",
            "Epoch: 8  train_loss=0.0226, test_loss=0.0493, test_err=1.29%\n",
            "Epoch: 9  train_loss=0.0217, test_loss=0.0330, test_err=0.94%\n",
            "Epoch: 10  train_loss=0.0202, test_loss=0.0345, test_err=1.01%\n",
            "Epoch: 11  train_loss=0.0169, test_loss=0.0406, test_err=1.12%\n",
            "Epoch: 12  train_loss=0.0182, test_loss=0.0451, test_err=1.14%\n",
            "Epoch: 13  train_loss=0.0182, test_loss=0.0380, test_err=0.95%\n",
            "Epoch: 14  train_loss=0.0160, test_loss=0.0412, test_err=0.95%\n",
            "Epoch: 15  train_loss=0.0120, test_loss=0.0427, test_err=1.06%\n",
            "Epoch: 16  train_loss=0.0141, test_loss=0.0429, test_err=0.91%\n",
            "Epoch: 17  train_loss=0.0131, test_loss=0.0438, test_err=1.03%\n",
            "Epoch: 18  train_loss=0.0122, test_loss=0.0438, test_err=0.96%\n",
            "Epoch: 19  train_loss=0.0119, test_loss=0.0387, test_err=0.99%\n",
            "Epoch: 20  train_loss=0.0111, test_loss=0.0355, test_err=0.88%\n"
          ]
        }
      ]
    },
    {
      "cell_type": "markdown",
      "source": [
        "If everything is correct, you should see something like this:"
      ],
      "metadata": {
        "id": "j_uOfXh-FlLK"
      }
    },
    {
      "cell_type": "markdown",
      "source": [
        "\n",
        "```\n",
        "Epoch: 1  train_loss=0.1512, test_loss=0.0464, test_err=1.46%\n",
        "Epoch: 2  train_loss=0.0684, test_loss=0.0473, test_err=1.70%\n",
        "Epoch: 3  train_loss=0.0509, test_loss=0.0349, test_err=1.14%\n",
        "Epoch: 4  train_loss=0.0450, test_loss=0.0303, test_err=0.91%\n",
        "Epoch: 5  train_loss=0.0387, test_loss=0.0413, test_err=1.15%\n",
        "Epoch: 6  train_loss=0.0393, test_loss=0.0407, test_err=1.15%\n",
        "Epoch: 7  train_loss=0.0328, test_loss=0.0375, test_err=1.02%\n",
        "Epoch: 8  train_loss=0.0290, test_loss=0.0468, test_err=1.28%\n",
        "Epoch: 9  train_loss=0.0310, test_loss=0.0394, test_err=1.12%\n",
        "Epoch: 10  train_loss=0.0304, test_loss=0.0374, test_err=1.05%\n",
        "Epoch: 11  train_loss=0.0313, test_loss=0.0437, test_err=1.09%\n",
        "Epoch: 12  train_loss=0.0268, test_loss=0.0548, test_err=1.35%\n",
        "Epoch: 13  train_loss=0.0293, test_loss=0.0536, test_err=1.20%\n",
        "Epoch: 14  train_loss=0.0265, test_loss=0.0472, test_err=1.14%\n",
        "Epoch: 15  train_loss=0.0234, test_loss=0.0479, test_err=1.05%\n",
        "Epoch: 16  train_loss=0.0215, test_loss=0.0422, test_err=0.88%\n",
        "Epoch: 17  train_loss=0.0211, test_loss=0.0419, test_err=0.94%\n",
        "Epoch: 18  train_loss=0.0218, test_loss=0.0473, test_err=1.00%\n",
        "Epoch: 19  train_loss=0.0205, test_loss=0.0485, test_err=0.96%\n",
        "Epoch: 20  train_loss=0.0215, test_loss=0.0503, test_err=0.90%\n",
        "\n",
        "```\n",
        "\n"
      ],
      "metadata": {
        "id": "PU8n5bhGFlOJ"
      }
    },
    {
      "cell_type": "markdown",
      "source": [
        "The convolutional front-end helps improve performance significantly. Now, the best performance on the test set should be between 0.8%-0.9%.\n",
        "\n",
        "**Note**: in this tutorial, we use relatively simple models. When models get more complex (e.g, you have more layers and types of neural networks involved) you can split your models into submodels and then combine them. You can also use a sequential container ([torch.nn.Sequential](https://pytorch.org/docs/stable/generated/torch.nn.Sequential.html) to combine pipelines of computations (without the need to write the forward method yourself)."
      ],
      "metadata": {
        "id": "ykUXwuKkFwIL"
      }
    }
  ]
}